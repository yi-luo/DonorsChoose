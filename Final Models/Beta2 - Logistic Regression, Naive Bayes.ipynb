{
 "cells": [
  {
   "cell_type": "code",
   "execution_count": 1,
   "metadata": {
    "colab": {},
    "colab_type": "code",
    "id": "MQoj8zyFKwvJ"
   },
   "outputs": [
    {
     "name": "stderr",
     "output_type": "stream",
     "text": [
      "Using TensorFlow backend.\n"
     ]
    }
   ],
   "source": [
    "import pandas as pd\n",
    "import collections\n",
    "from sklearn import preprocessing\n",
    "from sklearn import metrics\n",
    "import matplotlib.pyplot as plt \n",
    "plt.rc(\"font\", size=14)\n",
    "from sklearn.linear_model import LogisticRegression\n",
    "from sklearn.model_selection import train_test_split\n",
    "from sklearn.preprocessing import StandardScaler\n",
    "import sklearn.metrics as metrics\n",
    "import statsmodels.api as sm\n",
    "from scipy import stats\n",
    "import seaborn as sns\n",
    "sns.set(style=\"white\")\n",
    "sns.set(style=\"whitegrid\", color_codes=True)\n",
    "from imblearn.over_sampling import SMOTE \n",
    "from sklearn import svm"
   ]
  },
  {
   "cell_type": "code",
   "execution_count": 2,
   "metadata": {},
   "outputs": [
    {
     "name": "stderr",
     "output_type": "stream",
     "text": [
      "[nltk_data] Downloading package punkt to\n",
      "[nltk_data]     C:\\Users\\liewm\\AppData\\Roaming\\nltk_data...\n",
      "[nltk_data]   Package punkt is already up-to-date!\n",
      "[nltk_data] Downloading package stopwords to\n",
      "[nltk_data]     C:\\Users\\liewm\\AppData\\Roaming\\nltk_data...\n",
      "[nltk_data]   Package stopwords is already up-to-date!\n",
      "[nltk_data] Downloading package wordnet to\n",
      "[nltk_data]     C:\\Users\\liewm\\AppData\\Roaming\\nltk_data...\n",
      "[nltk_data]   Package wordnet is already up-to-date!\n"
     ]
    }
   ],
   "source": [
    "import pandas as pd\n",
    "import collections\n",
    "from sklearn import preprocessing\n",
    "from sklearn import metrics\n",
    "import matplotlib.pyplot as plt \n",
    "plt.rc(\"font\", size=14)\n",
    "from sklearn.linear_model import LogisticRegression\n",
    "from sklearn.model_selection import train_test_split\n",
    "from sklearn.preprocessing import StandardScaler\n",
    "import statsmodels.api as sm\n",
    "from scipy import stats\n",
    "import seaborn as sns\n",
    "import nltk\n",
    "from nltk.tokenize import word_tokenize\n",
    "nltk.download('punkt')\n",
    "nltk.download('stopwords')\n",
    "from nltk.corpus import stopwords\n",
    "stop_words = set(stopwords.words(\"english\"))\n",
    "from nltk.stem.porter import PorterStemmer\n",
    "nltk.download('wordnet')\n",
    "from nltk.stem import WordNetLemmatizer\n",
    "from sklearn.feature_extraction.text import TfidfVectorizer\n",
    "import spacy\n",
    "\n",
    "\n",
    "from sklearn.linear_model import LogisticRegression\n",
    "from sklearn.model_selection import StratifiedKFold\n",
    "from sklearn.feature_extraction.text import CountVectorizer,TfidfVectorizer\n",
    "from sklearn.decomposition import TruncatedSVD\n",
    "from sklearn.metrics import log_loss,confusion_matrix,classification_report,roc_curve,auc\n",
    "\n",
    "import string\n",
    "import nltk\n",
    "from nltk.corpus import stopwords\n",
    "from nltk.tokenize import word_tokenize\n",
    "from scipy import sparse\n",
    "%matplotlib inline\n"
   ]
  },
  {
   "cell_type": "code",
   "execution_count": 3,
   "metadata": {
    "colab": {
     "base_uri": "https://localhost:8080/",
     "height": 598
    },
    "colab_type": "code",
    "id": "f-a4S5Ejtl1Z",
    "outputId": "5b6a5ba8-9955-4c0a-c82d-428606945c14"
   },
   "outputs": [
    {
     "name": "stderr",
     "output_type": "stream",
     "text": [
      "C:\\Users\\liewm\\Anaconda3\\lib\\site-packages\\IPython\\core\\interactiveshell.py:3058: DtypeWarning: Columns (0,58,59,60) have mixed types. Specify dtype option on import or set low_memory=False.\n",
      "  interactivity=interactivity, compiler=compiler, result=result)\n"
     ]
    },
    {
     "data": {
      "text/html": [
       "<div>\n",
       "<style scoped>\n",
       "    .dataframe tbody tr th:only-of-type {\n",
       "        vertical-align: middle;\n",
       "    }\n",
       "\n",
       "    .dataframe tbody tr th {\n",
       "        vertical-align: top;\n",
       "    }\n",
       "\n",
       "    .dataframe thead th {\n",
       "        text-align: right;\n",
       "    }\n",
       "</style>\n",
       "<table border=\"1\" class=\"dataframe\">\n",
       "  <thead>\n",
       "    <tr style=\"text-align: right;\">\n",
       "      <th></th>\n",
       "      <th>id</th>\n",
       "      <th>teacher_id</th>\n",
       "      <th>teacher_prefix</th>\n",
       "      <th>school_state</th>\n",
       "      <th>project_submitted_datetime</th>\n",
       "      <th>project_grade_category</th>\n",
       "      <th>project_subject_categories</th>\n",
       "      <th>project_subject_subcategories</th>\n",
       "      <th>project_title</th>\n",
       "      <th>project_essay_1</th>\n",
       "      <th>...</th>\n",
       "      <th>res_cat_Classroom Basics</th>\n",
       "      <th>res_cat_Educational Kits &amp; Games</th>\n",
       "      <th>res_cat_Sports &amp; Exercise Equipment</th>\n",
       "      <th>res_cat_Musical Instruments</th>\n",
       "      <th>res_cat_Art Supplies</th>\n",
       "      <th>res_cat_Lab Equipment</th>\n",
       "      <th>res_cat_Visitors</th>\n",
       "      <th>Combined Project Essay</th>\n",
       "      <th>essay_processed</th>\n",
       "      <th>need_processed</th>\n",
       "    </tr>\n",
       "  </thead>\n",
       "  <tbody>\n",
       "    <tr>\n",
       "      <td>0</td>\n",
       "      <td>p039565</td>\n",
       "      <td>df72a3ba8089423fa8a94be88060f6ed</td>\n",
       "      <td>Mrs.</td>\n",
       "      <td>GA</td>\n",
       "      <td>2017-04-26 15:57:28</td>\n",
       "      <td>Grades 3-5</td>\n",
       "      <td>Counter({'Music &amp; The Arts': 1, 'Health &amp; Spor...</td>\n",
       "      <td>Counter({'Performing Arts': 1, 'Team Sports': 1})</td>\n",
       "      <td>Keep Calm and Dance On</td>\n",
       "      <td>Our elementary school is a culturally rich sch...</td>\n",
       "      <td>...</td>\n",
       "      <td>0.0</td>\n",
       "      <td>0.0</td>\n",
       "      <td>0.0</td>\n",
       "      <td>0.0</td>\n",
       "      <td>0.0</td>\n",
       "      <td>0.0</td>\n",
       "      <td>0.0</td>\n",
       "      <td>Our elementary school is a culturally rich sch...</td>\n",
       "      <td>elementary school rich school diverse populati...</td>\n",
       "      <td>student need matching shirt wear dance perform...</td>\n",
       "    </tr>\n",
       "    <tr>\n",
       "      <td>1</td>\n",
       "      <td>p063374</td>\n",
       "      <td>403c6783e9286e51ab318fba40f8d729</td>\n",
       "      <td>Mrs.</td>\n",
       "      <td>DE</td>\n",
       "      <td>2016-11-05 10:01:51</td>\n",
       "      <td>Grades PreK-2</td>\n",
       "      <td>Counter({'Applied Learning': 1, 'Literacy &amp; La...</td>\n",
       "      <td>Counter({'Character Education': 1, 'Literature...</td>\n",
       "      <td>Need to Reach Our Virtual  Mentors!!!</td>\n",
       "      <td>My kids tell me each day that they want to mak...</td>\n",
       "      <td>...</td>\n",
       "      <td>0.0</td>\n",
       "      <td>0.0</td>\n",
       "      <td>0.0</td>\n",
       "      <td>0.0</td>\n",
       "      <td>0.0</td>\n",
       "      <td>0.0</td>\n",
       "      <td>0.0</td>\n",
       "      <td>My kids tell me each day that they want to mak...</td>\n",
       "      <td>kid tell day want make happy teacher respectfu...</td>\n",
       "      <td>student need tablet order communicate virtual ...</td>\n",
       "    </tr>\n",
       "  </tbody>\n",
       "</table>\n",
       "<p>2 rows × 77 columns</p>\n",
       "</div>"
      ],
      "text/plain": [
       "        id                        teacher_id teacher_prefix school_state  \\\n",
       "0  p039565  df72a3ba8089423fa8a94be88060f6ed           Mrs.           GA   \n",
       "1  p063374  403c6783e9286e51ab318fba40f8d729           Mrs.           DE   \n",
       "\n",
       "  project_submitted_datetime project_grade_category  \\\n",
       "0        2017-04-26 15:57:28             Grades 3-5   \n",
       "1        2016-11-05 10:01:51          Grades PreK-2   \n",
       "\n",
       "                          project_subject_categories  \\\n",
       "0  Counter({'Music & The Arts': 1, 'Health & Spor...   \n",
       "1  Counter({'Applied Learning': 1, 'Literacy & La...   \n",
       "\n",
       "                       project_subject_subcategories  \\\n",
       "0  Counter({'Performing Arts': 1, 'Team Sports': 1})   \n",
       "1  Counter({'Character Education': 1, 'Literature...   \n",
       "\n",
       "                           project_title  \\\n",
       "0                 Keep Calm and Dance On   \n",
       "1  Need to Reach Our Virtual  Mentors!!!   \n",
       "\n",
       "                                     project_essay_1  ...  \\\n",
       "0  Our elementary school is a culturally rich sch...  ...   \n",
       "1  My kids tell me each day that they want to mak...  ...   \n",
       "\n",
       "  res_cat_Classroom Basics res_cat_Educational Kits & Games  \\\n",
       "0                      0.0                              0.0   \n",
       "1                      0.0                              0.0   \n",
       "\n",
       "  res_cat_Sports & Exercise Equipment res_cat_Musical Instruments  \\\n",
       "0                                 0.0                         0.0   \n",
       "1                                 0.0                         0.0   \n",
       "\n",
       "   res_cat_Art Supplies  res_cat_Lab Equipment res_cat_Visitors  \\\n",
       "0                   0.0                    0.0              0.0   \n",
       "1                   0.0                    0.0              0.0   \n",
       "\n",
       "                              Combined Project Essay  \\\n",
       "0  Our elementary school is a culturally rich sch...   \n",
       "1  My kids tell me each day that they want to mak...   \n",
       "\n",
       "                                     essay_processed  \\\n",
       "0  elementary school rich school diverse populati...   \n",
       "1  kid tell day want make happy teacher respectfu...   \n",
       "\n",
       "                                      need_processed  \n",
       "0  student need matching shirt wear dance perform...  \n",
       "1  student need tablet order communicate virtual ...  \n",
       "\n",
       "[2 rows x 77 columns]"
      ]
     },
     "execution_count": 3,
     "metadata": {},
     "output_type": "execute_result"
    }
   ],
   "source": [
    "train_data =pd.read_csv(r'C:\\Users\\liewm\\Documents\\BT4240 Machine Learning\\Project\\donorsnlp1.csv')\n",
    "train_data=train_data.drop(columns=['Unnamed: 0'])\n",
    "train_data.head(2)"
   ]
  },
  {
   "cell_type": "markdown",
   "metadata": {
    "colab_type": "text",
    "id": "oU4DzZN5lwYO"
   },
   "source": [
    "## Feature Selection"
   ]
  },
  {
   "cell_type": "code",
   "execution_count": 4,
   "metadata": {
    "colab": {
     "base_uri": "https://localhost:8080/",
     "height": 170
    },
    "colab_type": "code",
    "id": "WFLUVAVDLZE8",
    "outputId": "d883cb71-5523-4f69-850d-65329a09e92c"
   },
   "outputs": [
    {
     "data": {
      "text/plain": [
       "Index(['id', 'teacher_id', 'teacher_prefix', 'school_state',\n",
       "       'project_submitted_datetime', 'project_grade_category',\n",
       "       'project_subject_categories', 'project_subject_subcategories',\n",
       "       'project_title', 'project_essay_1', 'project_essay_2',\n",
       "       'project_essay_3', 'project_essay_4', 'project_resource_summary',\n",
       "       'teacher_number_of_previously_posted_projects', 'project_is_approved',\n",
       "       'description', 'total_cost', 'Project Resource Category',\n",
       "       'Project Need Statement', 'proj_cat_Music & The Arts',\n",
       "       'proj_cat_Health & Sports', 'proj_cat_Applied Learning',\n",
       "       'proj_cat_Literacy & Language', 'proj_cat_Math & Science',\n",
       "       'proj_cat_Special Needs', 'proj_cat_History & Civics',\n",
       "       'proj_cat_Warmth', 'proj_cat_Care & Hunger',\n",
       "       'proj_sub_cat_Performing Arts', 'proj_sub_cat_Team Sports',\n",
       "       'proj_sub_cat_Character Education', 'proj_sub_cat_Literature & Writing',\n",
       "       'proj_sub_cat_Mathematics', 'proj_sub_cat_Literacy',\n",
       "       'proj_sub_cat_Early Development', 'proj_sub_cat_Environmental Science',\n",
       "       'proj_sub_cat_Health & Wellness', 'proj_sub_cat_Music',\n",
       "       'proj_sub_cat_Applied Sciences', 'proj_sub_cat_Visual Arts',\n",
       "       'proj_sub_cat_ESL', 'proj_sub_cat_Extracurricular',\n",
       "       'proj_sub_cat_Gym & Fitness', 'proj_sub_cat_History & Geography',\n",
       "       'proj_sub_cat_College & Career Prep',\n",
       "       'proj_sub_cat_Health & Life Science', 'proj_sub_cat_Other',\n",
       "       'proj_sub_cat_Social Sciences', 'proj_sub_cat_Foreign Languages',\n",
       "       'proj_sub_cat_Parent Involvement', 'proj_sub_cat_Nutrition Education',\n",
       "       'proj_sub_cat_Civics & Government', 'proj_sub_cat_Community Service',\n",
       "       'proj_sub_cat_Financial Literacy', 'proj_sub_cat_Economics',\n",
       "       'res_cat_Supplies', 'res_cat_Technology', 'res_cat_Books',\n",
       "       'res_cat_Other', 'res_cat_Computers & Tablets', 'res_cat_Food',\n",
       "       'res_cat_Clothing & Hygiene', 'res_cat_Flexible Seating',\n",
       "       'res_cat_Reading Nooks', 'res_cat_Desks & Storage',\n",
       "       'res_cat_Instructional Technology', 'res_cat_Classroom Basics',\n",
       "       'res_cat_Educational Kits & Games',\n",
       "       'res_cat_Sports & Exercise Equipment', 'res_cat_Musical Instruments',\n",
       "       'res_cat_Art Supplies', 'res_cat_Lab Equipment', 'res_cat_Visitors',\n",
       "       'Combined Project Essay', 'essay_processed', 'need_processed'],\n",
       "      dtype='object')"
      ]
     },
     "execution_count": 4,
     "metadata": {},
     "output_type": "execute_result"
    }
   ],
   "source": [
    "train_data.columns"
   ]
  },
  {
   "cell_type": "code",
   "execution_count": 5,
   "metadata": {
    "colab": {
     "base_uri": "https://localhost:8080/",
     "height": 168
    },
    "colab_type": "code",
    "id": "-NNScbOiV_Ua",
    "outputId": "1fa244a8-087d-4af5-eb4f-7fc489d3534e"
   },
   "outputs": [
    {
     "name": "stdout",
     "output_type": "stream",
     "text": [
      "54\n",
      "[dtype('float64')]\n"
     ]
    },
    {
     "data": {
      "text/plain": [
       "Index(['teacher_number_of_previously_posted_projects', 'project_is_approved',\n",
       "       'total_cost', 'proj_cat_Music & The Arts', 'proj_cat_Health & Sports',\n",
       "       'proj_cat_Applied Learning', 'proj_cat_Literacy & Language',\n",
       "       'proj_cat_Math & Science', 'proj_cat_Special Needs',\n",
       "       'proj_cat_History & Civics', 'proj_cat_Warmth',\n",
       "       'proj_cat_Care & Hunger', 'proj_sub_cat_Performing Arts',\n",
       "       'proj_sub_cat_Team Sports', 'proj_sub_cat_Character Education',\n",
       "       'proj_sub_cat_Literature & Writing', 'proj_sub_cat_Mathematics',\n",
       "       'proj_sub_cat_Literacy', 'proj_sub_cat_Early Development',\n",
       "       'proj_sub_cat_Environmental Science', 'proj_sub_cat_Health & Wellness',\n",
       "       'proj_sub_cat_Music', 'proj_sub_cat_Applied Sciences',\n",
       "       'proj_sub_cat_Visual Arts', 'proj_sub_cat_ESL',\n",
       "       'proj_sub_cat_Extracurricular', 'proj_sub_cat_Gym & Fitness',\n",
       "       'proj_sub_cat_History & Geography',\n",
       "       'proj_sub_cat_College & Career Prep',\n",
       "       'proj_sub_cat_Health & Life Science', 'proj_sub_cat_Other',\n",
       "       'proj_sub_cat_Social Sciences', 'proj_sub_cat_Foreign Languages',\n",
       "       'proj_sub_cat_Parent Involvement', 'proj_sub_cat_Nutrition Education',\n",
       "       'proj_sub_cat_Civics & Government', 'proj_sub_cat_Community Service',\n",
       "       'proj_sub_cat_Financial Literacy', 'proj_sub_cat_Economics',\n",
       "       'res_cat_Supplies', 'res_cat_Computers & Tablets', 'res_cat_Food',\n",
       "       'res_cat_Clothing & Hygiene', 'res_cat_Flexible Seating',\n",
       "       'res_cat_Reading Nooks', 'res_cat_Desks & Storage',\n",
       "       'res_cat_Instructional Technology', 'res_cat_Classroom Basics',\n",
       "       'res_cat_Educational Kits & Games',\n",
       "       'res_cat_Sports & Exercise Equipment', 'res_cat_Musical Instruments',\n",
       "       'res_cat_Art Supplies', 'res_cat_Lab Equipment', 'res_cat_Visitors'],\n",
       "      dtype='object')"
      ]
     },
     "execution_count": 5,
     "metadata": {},
     "output_type": "execute_result"
    }
   ],
   "source": [
    "train_df = train_data.select_dtypes(exclude=['object','category'])\n",
    "print(len(train_df.columns))\n",
    "print(train_df.dtypes.unique())\n",
    "cat_columns = [col for col in train_df.columns if 'cat' in col]\n",
    "train_df.columns"
   ]
  },
  {
   "cell_type": "code",
   "execution_count": 6,
   "metadata": {},
   "outputs": [],
   "source": [
    "train_df=train_df.fillna(0)"
   ]
  },
  {
   "cell_type": "code",
   "execution_count": 7,
   "metadata": {},
   "outputs": [],
   "source": [
    "train_df['essay']=train_data['essay_processed']"
   ]
  },
  {
   "cell_type": "code",
   "execution_count": 8,
   "metadata": {},
   "outputs": [
    {
     "data": {
      "text/plain": [
       "teacher_number_of_previously_posted_projects    False\n",
       "project_is_approved                             False\n",
       "total_cost                                      False\n",
       "proj_cat_Music & The Arts                       False\n",
       "proj_cat_Health & Sports                        False\n",
       "proj_cat_Applied Learning                       False\n",
       "proj_cat_Literacy & Language                    False\n",
       "proj_cat_Math & Science                         False\n",
       "proj_cat_Special Needs                          False\n",
       "proj_cat_History & Civics                       False\n",
       "proj_cat_Warmth                                 False\n",
       "proj_cat_Care & Hunger                          False\n",
       "proj_sub_cat_Performing Arts                    False\n",
       "proj_sub_cat_Team Sports                        False\n",
       "proj_sub_cat_Character Education                False\n",
       "proj_sub_cat_Literature & Writing               False\n",
       "proj_sub_cat_Mathematics                        False\n",
       "proj_sub_cat_Literacy                           False\n",
       "proj_sub_cat_Early Development                  False\n",
       "proj_sub_cat_Environmental Science              False\n",
       "proj_sub_cat_Health & Wellness                  False\n",
       "proj_sub_cat_Music                              False\n",
       "proj_sub_cat_Applied Sciences                   False\n",
       "proj_sub_cat_Visual Arts                        False\n",
       "proj_sub_cat_ESL                                False\n",
       "proj_sub_cat_Extracurricular                    False\n",
       "proj_sub_cat_Gym & Fitness                      False\n",
       "proj_sub_cat_History & Geography                False\n",
       "proj_sub_cat_College & Career Prep              False\n",
       "proj_sub_cat_Health & Life Science              False\n",
       "proj_sub_cat_Other                              False\n",
       "proj_sub_cat_Social Sciences                    False\n",
       "proj_sub_cat_Foreign Languages                  False\n",
       "proj_sub_cat_Parent Involvement                 False\n",
       "proj_sub_cat_Nutrition Education                False\n",
       "proj_sub_cat_Civics & Government                False\n",
       "proj_sub_cat_Community Service                  False\n",
       "proj_sub_cat_Financial Literacy                 False\n",
       "proj_sub_cat_Economics                          False\n",
       "res_cat_Supplies                                False\n",
       "res_cat_Computers & Tablets                     False\n",
       "res_cat_Food                                    False\n",
       "res_cat_Clothing & Hygiene                      False\n",
       "res_cat_Flexible Seating                        False\n",
       "res_cat_Reading Nooks                           False\n",
       "res_cat_Desks & Storage                         False\n",
       "res_cat_Instructional Technology                False\n",
       "res_cat_Classroom Basics                        False\n",
       "res_cat_Educational Kits & Games                False\n",
       "res_cat_Sports & Exercise Equipment             False\n",
       "res_cat_Musical Instruments                     False\n",
       "res_cat_Art Supplies                            False\n",
       "res_cat_Lab Equipment                           False\n",
       "res_cat_Visitors                                False\n",
       "essay                                            True\n",
       "dtype: bool"
      ]
     },
     "execution_count": 8,
     "metadata": {},
     "output_type": "execute_result"
    }
   ],
   "source": [
    "train_df.isnull().any()"
   ]
  },
  {
   "cell_type": "code",
   "execution_count": 9,
   "metadata": {},
   "outputs": [
    {
     "data": {
      "text/html": [
       "<div>\n",
       "<style scoped>\n",
       "    .dataframe tbody tr th:only-of-type {\n",
       "        vertical-align: middle;\n",
       "    }\n",
       "\n",
       "    .dataframe tbody tr th {\n",
       "        vertical-align: top;\n",
       "    }\n",
       "\n",
       "    .dataframe thead th {\n",
       "        text-align: right;\n",
       "    }\n",
       "</style>\n",
       "<table border=\"1\" class=\"dataframe\">\n",
       "  <thead>\n",
       "    <tr style=\"text-align: right;\">\n",
       "      <th></th>\n",
       "      <th>teacher_number_of_previously_posted_projects</th>\n",
       "      <th>project_is_approved</th>\n",
       "      <th>total_cost</th>\n",
       "      <th>proj_cat_Music &amp; The Arts</th>\n",
       "      <th>proj_cat_Health &amp; Sports</th>\n",
       "      <th>proj_cat_Applied Learning</th>\n",
       "      <th>proj_cat_Literacy &amp; Language</th>\n",
       "      <th>proj_cat_Math &amp; Science</th>\n",
       "      <th>proj_cat_Special Needs</th>\n",
       "      <th>proj_cat_History &amp; Civics</th>\n",
       "      <th>...</th>\n",
       "      <th>res_cat_Desks &amp; Storage</th>\n",
       "      <th>res_cat_Instructional Technology</th>\n",
       "      <th>res_cat_Classroom Basics</th>\n",
       "      <th>res_cat_Educational Kits &amp; Games</th>\n",
       "      <th>res_cat_Sports &amp; Exercise Equipment</th>\n",
       "      <th>res_cat_Musical Instruments</th>\n",
       "      <th>res_cat_Art Supplies</th>\n",
       "      <th>res_cat_Lab Equipment</th>\n",
       "      <th>res_cat_Visitors</th>\n",
       "      <th>essay</th>\n",
       "    </tr>\n",
       "  </thead>\n",
       "  <tbody>\n",
       "    <tr>\n",
       "      <td>0</td>\n",
       "      <td>1.0</td>\n",
       "      <td>0.0</td>\n",
       "      <td>400.00</td>\n",
       "      <td>1</td>\n",
       "      <td>1</td>\n",
       "      <td>0</td>\n",
       "      <td>0</td>\n",
       "      <td>0</td>\n",
       "      <td>0</td>\n",
       "      <td>0</td>\n",
       "      <td>...</td>\n",
       "      <td>0</td>\n",
       "      <td>0</td>\n",
       "      <td>0</td>\n",
       "      <td>0</td>\n",
       "      <td>0</td>\n",
       "      <td>0</td>\n",
       "      <td>0</td>\n",
       "      <td>0</td>\n",
       "      <td>0</td>\n",
       "      <td>elementary school rich school diverse populati...</td>\n",
       "    </tr>\n",
       "    <tr>\n",
       "      <td>1</td>\n",
       "      <td>0.0</td>\n",
       "      <td>1.0</td>\n",
       "      <td>727.36</td>\n",
       "      <td>0</td>\n",
       "      <td>0</td>\n",
       "      <td>1</td>\n",
       "      <td>1</td>\n",
       "      <td>0</td>\n",
       "      <td>0</td>\n",
       "      <td>0</td>\n",
       "      <td>...</td>\n",
       "      <td>0</td>\n",
       "      <td>0</td>\n",
       "      <td>0</td>\n",
       "      <td>0</td>\n",
       "      <td>0</td>\n",
       "      <td>0</td>\n",
       "      <td>0</td>\n",
       "      <td>0</td>\n",
       "      <td>0</td>\n",
       "      <td>kid tell day want make happy teacher respectfu...</td>\n",
       "    </tr>\n",
       "    <tr>\n",
       "      <td>2</td>\n",
       "      <td>13.0</td>\n",
       "      <td>1.0</td>\n",
       "      <td>319.80</td>\n",
       "      <td>0</td>\n",
       "      <td>0</td>\n",
       "      <td>0</td>\n",
       "      <td>0</td>\n",
       "      <td>1</td>\n",
       "      <td>0</td>\n",
       "      <td>0</td>\n",
       "      <td>...</td>\n",
       "      <td>0</td>\n",
       "      <td>0</td>\n",
       "      <td>0</td>\n",
       "      <td>0</td>\n",
       "      <td>0</td>\n",
       "      <td>0</td>\n",
       "      <td>0</td>\n",
       "      <td>0</td>\n",
       "      <td>0</td>\n",
       "      <td>seventh grader dream big wait college dream co...</td>\n",
       "    </tr>\n",
       "  </tbody>\n",
       "</table>\n",
       "<p>3 rows × 55 columns</p>\n",
       "</div>"
      ],
      "text/plain": [
       "   teacher_number_of_previously_posted_projects  project_is_approved  \\\n",
       "0                                           1.0                  0.0   \n",
       "1                                           0.0                  1.0   \n",
       "2                                          13.0                  1.0   \n",
       "\n",
       "   total_cost  proj_cat_Music & The Arts  proj_cat_Health & Sports  \\\n",
       "0      400.00                          1                         1   \n",
       "1      727.36                          0                         0   \n",
       "2      319.80                          0                         0   \n",
       "\n",
       "   proj_cat_Applied Learning  proj_cat_Literacy & Language  \\\n",
       "0                          0                             0   \n",
       "1                          1                             1   \n",
       "2                          0                             0   \n",
       "\n",
       "   proj_cat_Math & Science  proj_cat_Special Needs  proj_cat_History & Civics  \\\n",
       "0                        0                       0                          0   \n",
       "1                        0                       0                          0   \n",
       "2                        1                       0                          0   \n",
       "\n",
       "   ...  res_cat_Desks & Storage  res_cat_Instructional Technology  \\\n",
       "0  ...                        0                                 0   \n",
       "1  ...                        0                                 0   \n",
       "2  ...                        0                                 0   \n",
       "\n",
       "   res_cat_Classroom Basics  res_cat_Educational Kits & Games  \\\n",
       "0                         0                                 0   \n",
       "1                         0                                 0   \n",
       "2                         0                                 0   \n",
       "\n",
       "   res_cat_Sports & Exercise Equipment  res_cat_Musical Instruments  \\\n",
       "0                                    0                            0   \n",
       "1                                    0                            0   \n",
       "2                                    0                            0   \n",
       "\n",
       "   res_cat_Art Supplies  res_cat_Lab Equipment  res_cat_Visitors  \\\n",
       "0                     0                      0                 0   \n",
       "1                     0                      0                 0   \n",
       "2                     0                      0                 0   \n",
       "\n",
       "                                               essay  \n",
       "0  elementary school rich school diverse populati...  \n",
       "1  kid tell day want make happy teacher respectfu...  \n",
       "2  seventh grader dream big wait college dream co...  \n",
       "\n",
       "[3 rows x 55 columns]"
      ]
     },
     "execution_count": 9,
     "metadata": {},
     "output_type": "execute_result"
    }
   ],
   "source": [
    "train_df[cat_columns] = train_df[cat_columns].astype('int8')\n",
    "train_df.head(3)"
   ]
  },
  {
   "cell_type": "code",
   "execution_count": 10,
   "metadata": {},
   "outputs": [],
   "source": [
    "train_df['teacher_number_of_previously_posted_projects']=train_df['teacher_number_of_previously_posted_projects'].astype('int8')\n",
    "train_df['project_is_approved']=train_df['project_is_approved'].astype('int8')\n"
   ]
  },
  {
   "cell_type": "code",
   "execution_count": 11,
   "metadata": {
    "colab": {
     "base_uri": "https://localhost:8080/",
     "height": 51
    },
    "colab_type": "code",
    "id": "TNxWsaYhfc-7",
    "outputId": "91834c01-426b-4286-ad4a-a2460a0c598d"
   },
   "outputs": [
    {
     "name": "stdout",
     "output_type": "stream",
     "text": [
      "(93791, 54)\n",
      "(93791, 1)\n",
      "<class 'pandas.core.frame.DataFrame'>\n",
      "Number of features: 54\n"
     ]
    }
   ],
   "source": [
    "X = train_df.loc[:, train_df.columns != 'project_is_approved']\n",
    "y = train_df.loc[:, train_df.columns == 'project_is_approved']\n",
    "print(X.shape)\n",
    "print(y.shape)\n",
    "\n",
    "print(type(y))\n",
    "print(\"Number of features: {}\".format(len(X.columns)))"
   ]
  },
  {
   "cell_type": "markdown",
   "metadata": {
    "colab_type": "text",
    "id": "mjXomXyJlwYn"
   },
   "source": [
    "### Normalize numerical features"
   ]
  },
  {
   "cell_type": "code",
   "execution_count": 12,
   "metadata": {
    "colab": {
     "base_uri": "https://localhost:8080/",
     "height": 221
    },
    "colab_type": "code",
    "id": "bkhemCQQk3IE",
    "outputId": "8eca6913-6744-48a9-875c-90c360e35685"
   },
   "outputs": [
    {
     "name": "stderr",
     "output_type": "stream",
     "text": [
      "C:\\Users\\liewm\\Anaconda3\\lib\\site-packages\\ipykernel_launcher.py:5: SettingWithCopyWarning: \n",
      "A value is trying to be set on a copy of a slice from a DataFrame.\n",
      "Try using .loc[row_indexer,col_indexer] = value instead\n",
      "\n",
      "See the caveats in the documentation: http://pandas.pydata.org/pandas-docs/stable/user_guide/indexing.html#returning-a-view-versus-a-copy\n",
      "  \"\"\"\n",
      "C:\\Users\\liewm\\Anaconda3\\lib\\site-packages\\ipykernel_launcher.py:5: SettingWithCopyWarning: \n",
      "A value is trying to be set on a copy of a slice from a DataFrame.\n",
      "Try using .loc[row_indexer,col_indexer] = value instead\n",
      "\n",
      "See the caveats in the documentation: http://pandas.pydata.org/pandas-docs/stable/user_guide/indexing.html#returning-a-view-versus-a-copy\n",
      "  \"\"\"\n"
     ]
    }
   ],
   "source": [
    "# standardize numeric features: teacher_number_of_previously_posted_projects, total_cost\n",
    "scaler = preprocessing.MinMaxScaler()\n",
    "stand_cols = ['teacher_number_of_previously_posted_projects', 'total_cost']\n",
    "for col_name in stand_cols:\n",
    "    X[col_name] = scaler.fit_transform(X[col_name].values.reshape(-1,1))"
   ]
  },
  {
   "cell_type": "code",
   "execution_count": 13,
   "metadata": {},
   "outputs": [
    {
     "data": {
      "text/html": [
       "<div>\n",
       "<style scoped>\n",
       "    .dataframe tbody tr th:only-of-type {\n",
       "        vertical-align: middle;\n",
       "    }\n",
       "\n",
       "    .dataframe tbody tr th {\n",
       "        vertical-align: top;\n",
       "    }\n",
       "\n",
       "    .dataframe thead th {\n",
       "        text-align: right;\n",
       "    }\n",
       "</style>\n",
       "<table border=\"1\" class=\"dataframe\">\n",
       "  <thead>\n",
       "    <tr style=\"text-align: right;\">\n",
       "      <th></th>\n",
       "      <th>teacher_number_of_previously_posted_projects</th>\n",
       "      <th>total_cost</th>\n",
       "      <th>proj_cat_Music &amp; The Arts</th>\n",
       "      <th>proj_cat_Health &amp; Sports</th>\n",
       "      <th>proj_cat_Applied Learning</th>\n",
       "      <th>proj_cat_Literacy &amp; Language</th>\n",
       "      <th>proj_cat_Math &amp; Science</th>\n",
       "      <th>proj_cat_Special Needs</th>\n",
       "      <th>proj_cat_History &amp; Civics</th>\n",
       "      <th>proj_cat_Warmth</th>\n",
       "      <th>...</th>\n",
       "      <th>res_cat_Reading Nooks</th>\n",
       "      <th>res_cat_Desks &amp; Storage</th>\n",
       "      <th>res_cat_Instructional Technology</th>\n",
       "      <th>res_cat_Classroom Basics</th>\n",
       "      <th>res_cat_Educational Kits &amp; Games</th>\n",
       "      <th>res_cat_Sports &amp; Exercise Equipment</th>\n",
       "      <th>res_cat_Musical Instruments</th>\n",
       "      <th>res_cat_Art Supplies</th>\n",
       "      <th>res_cat_Lab Equipment</th>\n",
       "      <th>res_cat_Visitors</th>\n",
       "    </tr>\n",
       "  </thead>\n",
       "  <tbody>\n",
       "    <tr>\n",
       "      <td>count</td>\n",
       "      <td>93791.000000</td>\n",
       "      <td>93791.000000</td>\n",
       "      <td>93791.000000</td>\n",
       "      <td>93791.000000</td>\n",
       "      <td>93791.000000</td>\n",
       "      <td>93791.000000</td>\n",
       "      <td>93791.000000</td>\n",
       "      <td>93791.000000</td>\n",
       "      <td>93791.000000</td>\n",
       "      <td>93791.000000</td>\n",
       "      <td>...</td>\n",
       "      <td>93791.000000</td>\n",
       "      <td>93791.000000</td>\n",
       "      <td>93791.000000</td>\n",
       "      <td>93791.000000</td>\n",
       "      <td>93791.000000</td>\n",
       "      <td>93791.0</td>\n",
       "      <td>93791.0</td>\n",
       "      <td>93791.000000</td>\n",
       "      <td>93791.0</td>\n",
       "      <td>93791.000000</td>\n",
       "    </tr>\n",
       "    <tr>\n",
       "      <td>mean</td>\n",
       "      <td>0.534858</td>\n",
       "      <td>0.037883</td>\n",
       "      <td>0.100809</td>\n",
       "      <td>0.121611</td>\n",
       "      <td>0.110778</td>\n",
       "      <td>0.484940</td>\n",
       "      <td>0.375782</td>\n",
       "      <td>0.121568</td>\n",
       "      <td>0.051018</td>\n",
       "      <td>0.015822</td>\n",
       "      <td>...</td>\n",
       "      <td>0.000032</td>\n",
       "      <td>0.000032</td>\n",
       "      <td>0.000053</td>\n",
       "      <td>0.000032</td>\n",
       "      <td>0.000011</td>\n",
       "      <td>0.0</td>\n",
       "      <td>0.0</td>\n",
       "      <td>0.000021</td>\n",
       "      <td>0.0</td>\n",
       "      <td>0.000032</td>\n",
       "    </tr>\n",
       "    <tr>\n",
       "      <td>std</td>\n",
       "      <td>0.083373</td>\n",
       "      <td>0.038686</td>\n",
       "      <td>0.301078</td>\n",
       "      <td>0.326838</td>\n",
       "      <td>0.313859</td>\n",
       "      <td>0.499776</td>\n",
       "      <td>0.484327</td>\n",
       "      <td>0.326788</td>\n",
       "      <td>0.220035</td>\n",
       "      <td>0.124789</td>\n",
       "      <td>...</td>\n",
       "      <td>0.005656</td>\n",
       "      <td>0.005656</td>\n",
       "      <td>0.007301</td>\n",
       "      <td>0.005656</td>\n",
       "      <td>0.003265</td>\n",
       "      <td>0.0</td>\n",
       "      <td>0.0</td>\n",
       "      <td>0.004618</td>\n",
       "      <td>0.0</td>\n",
       "      <td>0.005656</td>\n",
       "    </tr>\n",
       "    <tr>\n",
       "      <td>min</td>\n",
       "      <td>0.000000</td>\n",
       "      <td>0.000000</td>\n",
       "      <td>0.000000</td>\n",
       "      <td>0.000000</td>\n",
       "      <td>0.000000</td>\n",
       "      <td>0.000000</td>\n",
       "      <td>0.000000</td>\n",
       "      <td>0.000000</td>\n",
       "      <td>0.000000</td>\n",
       "      <td>0.000000</td>\n",
       "      <td>...</td>\n",
       "      <td>0.000000</td>\n",
       "      <td>0.000000</td>\n",
       "      <td>0.000000</td>\n",
       "      <td>0.000000</td>\n",
       "      <td>0.000000</td>\n",
       "      <td>0.0</td>\n",
       "      <td>0.0</td>\n",
       "      <td>0.000000</td>\n",
       "      <td>0.0</td>\n",
       "      <td>0.000000</td>\n",
       "    </tr>\n",
       "    <tr>\n",
       "      <td>25%</td>\n",
       "      <td>0.501961</td>\n",
       "      <td>0.016981</td>\n",
       "      <td>0.000000</td>\n",
       "      <td>0.000000</td>\n",
       "      <td>0.000000</td>\n",
       "      <td>0.000000</td>\n",
       "      <td>0.000000</td>\n",
       "      <td>0.000000</td>\n",
       "      <td>0.000000</td>\n",
       "      <td>0.000000</td>\n",
       "      <td>...</td>\n",
       "      <td>0.000000</td>\n",
       "      <td>0.000000</td>\n",
       "      <td>0.000000</td>\n",
       "      <td>0.000000</td>\n",
       "      <td>0.000000</td>\n",
       "      <td>0.0</td>\n",
       "      <td>0.0</td>\n",
       "      <td>0.000000</td>\n",
       "      <td>0.0</td>\n",
       "      <td>0.000000</td>\n",
       "    </tr>\n",
       "    <tr>\n",
       "      <td>50%</td>\n",
       "      <td>0.509804</td>\n",
       "      <td>0.027980</td>\n",
       "      <td>0.000000</td>\n",
       "      <td>0.000000</td>\n",
       "      <td>0.000000</td>\n",
       "      <td>0.000000</td>\n",
       "      <td>0.000000</td>\n",
       "      <td>0.000000</td>\n",
       "      <td>0.000000</td>\n",
       "      <td>0.000000</td>\n",
       "      <td>...</td>\n",
       "      <td>0.000000</td>\n",
       "      <td>0.000000</td>\n",
       "      <td>0.000000</td>\n",
       "      <td>0.000000</td>\n",
       "      <td>0.000000</td>\n",
       "      <td>0.0</td>\n",
       "      <td>0.0</td>\n",
       "      <td>0.000000</td>\n",
       "      <td>0.0</td>\n",
       "      <td>0.000000</td>\n",
       "    </tr>\n",
       "    <tr>\n",
       "      <td>75%</td>\n",
       "      <td>0.537255</td>\n",
       "      <td>0.047296</td>\n",
       "      <td>0.000000</td>\n",
       "      <td>0.000000</td>\n",
       "      <td>0.000000</td>\n",
       "      <td>1.000000</td>\n",
       "      <td>1.000000</td>\n",
       "      <td>0.000000</td>\n",
       "      <td>0.000000</td>\n",
       "      <td>0.000000</td>\n",
       "      <td>...</td>\n",
       "      <td>0.000000</td>\n",
       "      <td>0.000000</td>\n",
       "      <td>0.000000</td>\n",
       "      <td>0.000000</td>\n",
       "      <td>0.000000</td>\n",
       "      <td>0.0</td>\n",
       "      <td>0.0</td>\n",
       "      <td>0.000000</td>\n",
       "      <td>0.0</td>\n",
       "      <td>0.000000</td>\n",
       "    </tr>\n",
       "    <tr>\n",
       "      <td>max</td>\n",
       "      <td>1.000000</td>\n",
       "      <td>1.000000</td>\n",
       "      <td>1.000000</td>\n",
       "      <td>1.000000</td>\n",
       "      <td>1.000000</td>\n",
       "      <td>1.000000</td>\n",
       "      <td>1.000000</td>\n",
       "      <td>1.000000</td>\n",
       "      <td>1.000000</td>\n",
       "      <td>1.000000</td>\n",
       "      <td>...</td>\n",
       "      <td>1.000000</td>\n",
       "      <td>1.000000</td>\n",
       "      <td>1.000000</td>\n",
       "      <td>1.000000</td>\n",
       "      <td>1.000000</td>\n",
       "      <td>0.0</td>\n",
       "      <td>0.0</td>\n",
       "      <td>1.000000</td>\n",
       "      <td>0.0</td>\n",
       "      <td>1.000000</td>\n",
       "    </tr>\n",
       "  </tbody>\n",
       "</table>\n",
       "<p>8 rows × 53 columns</p>\n",
       "</div>"
      ],
      "text/plain": [
       "       teacher_number_of_previously_posted_projects    total_cost  \\\n",
       "count                                  93791.000000  93791.000000   \n",
       "mean                                       0.534858      0.037883   \n",
       "std                                        0.083373      0.038686   \n",
       "min                                        0.000000      0.000000   \n",
       "25%                                        0.501961      0.016981   \n",
       "50%                                        0.509804      0.027980   \n",
       "75%                                        0.537255      0.047296   \n",
       "max                                        1.000000      1.000000   \n",
       "\n",
       "       proj_cat_Music & The Arts  proj_cat_Health & Sports  \\\n",
       "count               93791.000000              93791.000000   \n",
       "mean                    0.100809                  0.121611   \n",
       "std                     0.301078                  0.326838   \n",
       "min                     0.000000                  0.000000   \n",
       "25%                     0.000000                  0.000000   \n",
       "50%                     0.000000                  0.000000   \n",
       "75%                     0.000000                  0.000000   \n",
       "max                     1.000000                  1.000000   \n",
       "\n",
       "       proj_cat_Applied Learning  proj_cat_Literacy & Language  \\\n",
       "count               93791.000000                  93791.000000   \n",
       "mean                    0.110778                      0.484940   \n",
       "std                     0.313859                      0.499776   \n",
       "min                     0.000000                      0.000000   \n",
       "25%                     0.000000                      0.000000   \n",
       "50%                     0.000000                      0.000000   \n",
       "75%                     0.000000                      1.000000   \n",
       "max                     1.000000                      1.000000   \n",
       "\n",
       "       proj_cat_Math & Science  proj_cat_Special Needs  \\\n",
       "count             93791.000000            93791.000000   \n",
       "mean                  0.375782                0.121568   \n",
       "std                   0.484327                0.326788   \n",
       "min                   0.000000                0.000000   \n",
       "25%                   0.000000                0.000000   \n",
       "50%                   0.000000                0.000000   \n",
       "75%                   1.000000                0.000000   \n",
       "max                   1.000000                1.000000   \n",
       "\n",
       "       proj_cat_History & Civics  proj_cat_Warmth  ...  res_cat_Reading Nooks  \\\n",
       "count               93791.000000     93791.000000  ...           93791.000000   \n",
       "mean                    0.051018         0.015822  ...               0.000032   \n",
       "std                     0.220035         0.124789  ...               0.005656   \n",
       "min                     0.000000         0.000000  ...               0.000000   \n",
       "25%                     0.000000         0.000000  ...               0.000000   \n",
       "50%                     0.000000         0.000000  ...               0.000000   \n",
       "75%                     0.000000         0.000000  ...               0.000000   \n",
       "max                     1.000000         1.000000  ...               1.000000   \n",
       "\n",
       "       res_cat_Desks & Storage  res_cat_Instructional Technology  \\\n",
       "count             93791.000000                      93791.000000   \n",
       "mean                  0.000032                          0.000053   \n",
       "std                   0.005656                          0.007301   \n",
       "min                   0.000000                          0.000000   \n",
       "25%                   0.000000                          0.000000   \n",
       "50%                   0.000000                          0.000000   \n",
       "75%                   0.000000                          0.000000   \n",
       "max                   1.000000                          1.000000   \n",
       "\n",
       "       res_cat_Classroom Basics  res_cat_Educational Kits & Games  \\\n",
       "count              93791.000000                      93791.000000   \n",
       "mean                   0.000032                          0.000011   \n",
       "std                    0.005656                          0.003265   \n",
       "min                    0.000000                          0.000000   \n",
       "25%                    0.000000                          0.000000   \n",
       "50%                    0.000000                          0.000000   \n",
       "75%                    0.000000                          0.000000   \n",
       "max                    1.000000                          1.000000   \n",
       "\n",
       "       res_cat_Sports & Exercise Equipment  res_cat_Musical Instruments  \\\n",
       "count                              93791.0                      93791.0   \n",
       "mean                                   0.0                          0.0   \n",
       "std                                    0.0                          0.0   \n",
       "min                                    0.0                          0.0   \n",
       "25%                                    0.0                          0.0   \n",
       "50%                                    0.0                          0.0   \n",
       "75%                                    0.0                          0.0   \n",
       "max                                    0.0                          0.0   \n",
       "\n",
       "       res_cat_Art Supplies  res_cat_Lab Equipment  res_cat_Visitors  \n",
       "count          93791.000000                93791.0      93791.000000  \n",
       "mean               0.000021                    0.0          0.000032  \n",
       "std                0.004618                    0.0          0.005656  \n",
       "min                0.000000                    0.0          0.000000  \n",
       "25%                0.000000                    0.0          0.000000  \n",
       "50%                0.000000                    0.0          0.000000  \n",
       "75%                0.000000                    0.0          0.000000  \n",
       "max                1.000000                    0.0          1.000000  \n",
       "\n",
       "[8 rows x 53 columns]"
      ]
     },
     "execution_count": 13,
     "metadata": {},
     "output_type": "execute_result"
    }
   ],
   "source": [
    "X.describe()"
   ]
  },
  {
   "cell_type": "code",
   "execution_count": 14,
   "metadata": {},
   "outputs": [
    {
     "data": {
      "text/plain": [
       "teacher_number_of_previously_posted_projects    False\n",
       "total_cost                                      False\n",
       "proj_cat_Music & The Arts                       False\n",
       "proj_cat_Health & Sports                        False\n",
       "proj_cat_Applied Learning                       False\n",
       "proj_cat_Literacy & Language                    False\n",
       "proj_cat_Math & Science                         False\n",
       "proj_cat_Special Needs                          False\n",
       "proj_cat_History & Civics                       False\n",
       "proj_cat_Warmth                                 False\n",
       "proj_cat_Care & Hunger                          False\n",
       "proj_sub_cat_Performing Arts                    False\n",
       "proj_sub_cat_Team Sports                        False\n",
       "proj_sub_cat_Character Education                False\n",
       "proj_sub_cat_Literature & Writing               False\n",
       "proj_sub_cat_Mathematics                        False\n",
       "proj_sub_cat_Literacy                           False\n",
       "proj_sub_cat_Early Development                  False\n",
       "proj_sub_cat_Environmental Science              False\n",
       "proj_sub_cat_Health & Wellness                  False\n",
       "proj_sub_cat_Music                              False\n",
       "proj_sub_cat_Applied Sciences                   False\n",
       "proj_sub_cat_Visual Arts                        False\n",
       "proj_sub_cat_ESL                                False\n",
       "proj_sub_cat_Extracurricular                    False\n",
       "proj_sub_cat_Gym & Fitness                      False\n",
       "proj_sub_cat_History & Geography                False\n",
       "proj_sub_cat_College & Career Prep              False\n",
       "proj_sub_cat_Health & Life Science              False\n",
       "proj_sub_cat_Other                              False\n",
       "proj_sub_cat_Social Sciences                    False\n",
       "proj_sub_cat_Foreign Languages                  False\n",
       "proj_sub_cat_Parent Involvement                 False\n",
       "proj_sub_cat_Nutrition Education                False\n",
       "proj_sub_cat_Civics & Government                False\n",
       "proj_sub_cat_Community Service                  False\n",
       "proj_sub_cat_Financial Literacy                 False\n",
       "proj_sub_cat_Economics                          False\n",
       "res_cat_Supplies                                False\n",
       "res_cat_Computers & Tablets                     False\n",
       "res_cat_Food                                    False\n",
       "res_cat_Clothing & Hygiene                      False\n",
       "res_cat_Flexible Seating                        False\n",
       "res_cat_Reading Nooks                           False\n",
       "res_cat_Desks & Storage                         False\n",
       "res_cat_Instructional Technology                False\n",
       "res_cat_Classroom Basics                        False\n",
       "res_cat_Educational Kits & Games                False\n",
       "res_cat_Sports & Exercise Equipment             False\n",
       "res_cat_Musical Instruments                     False\n",
       "res_cat_Art Supplies                            False\n",
       "res_cat_Lab Equipment                           False\n",
       "res_cat_Visitors                                False\n",
       "essay                                           False\n",
       "dtype: bool"
      ]
     },
     "execution_count": 14,
     "metadata": {},
     "output_type": "execute_result"
    }
   ],
   "source": [
    "import numpy as np\n",
    "X=X.replace(np.nan, '', regex=True)\n",
    "X.isnull().any()"
   ]
  },
  {
   "cell_type": "markdown",
   "metadata": {
    "colab_type": "text",
    "id": "iDAV_T5ZlwYx"
   },
   "source": [
    "## SMOTE Sampling"
   ]
  },
  {
   "cell_type": "code",
   "execution_count": 15,
   "metadata": {},
   "outputs": [],
   "source": [
    "from imblearn.pipeline import make_pipeline\n",
    "from imblearn.over_sampling import SMOTE"
   ]
  },
  {
   "cell_type": "code",
   "execution_count": 16,
   "metadata": {},
   "outputs": [
    {
     "data": {
      "text/plain": [
       "93791"
      ]
     },
     "execution_count": 16,
     "metadata": {},
     "output_type": "execute_result"
    }
   ],
   "source": [
    "train_df.index.shape[0]"
   ]
  },
  {
   "cell_type": "code",
   "execution_count": 17,
   "metadata": {},
   "outputs": [
    {
     "data": {
      "text/html": [
       "<div>\n",
       "<style scoped>\n",
       "    .dataframe tbody tr th:only-of-type {\n",
       "        vertical-align: middle;\n",
       "    }\n",
       "\n",
       "    .dataframe tbody tr th {\n",
       "        vertical-align: top;\n",
       "    }\n",
       "\n",
       "    .dataframe thead th {\n",
       "        text-align: right;\n",
       "    }\n",
       "</style>\n",
       "<table border=\"1\" class=\"dataframe\">\n",
       "  <thead>\n",
       "    <tr style=\"text-align: right;\">\n",
       "      <th></th>\n",
       "      <th>teacher_number_of_previously_posted_projects</th>\n",
       "      <th>total_cost</th>\n",
       "      <th>proj_cat_Music &amp; The Arts</th>\n",
       "      <th>proj_cat_Health &amp; Sports</th>\n",
       "      <th>proj_cat_Applied Learning</th>\n",
       "      <th>proj_cat_Literacy &amp; Language</th>\n",
       "      <th>proj_cat_Math &amp; Science</th>\n",
       "      <th>proj_cat_Special Needs</th>\n",
       "      <th>proj_cat_History &amp; Civics</th>\n",
       "      <th>proj_cat_Warmth</th>\n",
       "      <th>...</th>\n",
       "      <th>res_cat_Reading Nooks</th>\n",
       "      <th>res_cat_Desks &amp; Storage</th>\n",
       "      <th>res_cat_Instructional Technology</th>\n",
       "      <th>res_cat_Classroom Basics</th>\n",
       "      <th>res_cat_Educational Kits &amp; Games</th>\n",
       "      <th>res_cat_Sports &amp; Exercise Equipment</th>\n",
       "      <th>res_cat_Musical Instruments</th>\n",
       "      <th>res_cat_Art Supplies</th>\n",
       "      <th>res_cat_Lab Equipment</th>\n",
       "      <th>res_cat_Visitors</th>\n",
       "    </tr>\n",
       "  </thead>\n",
       "  <tbody>\n",
       "    <tr>\n",
       "      <td>0</td>\n",
       "      <td>0.505882</td>\n",
       "      <td>0.029534</td>\n",
       "      <td>1</td>\n",
       "      <td>1</td>\n",
       "      <td>0</td>\n",
       "      <td>0</td>\n",
       "      <td>0</td>\n",
       "      <td>0</td>\n",
       "      <td>0</td>\n",
       "      <td>0</td>\n",
       "      <td>...</td>\n",
       "      <td>0</td>\n",
       "      <td>0</td>\n",
       "      <td>0</td>\n",
       "      <td>0</td>\n",
       "      <td>0</td>\n",
       "      <td>0</td>\n",
       "      <td>0</td>\n",
       "      <td>0</td>\n",
       "      <td>0</td>\n",
       "      <td>0</td>\n",
       "    </tr>\n",
       "  </tbody>\n",
       "</table>\n",
       "<p>1 rows × 53 columns</p>\n",
       "</div>"
      ],
      "text/plain": [
       "   teacher_number_of_previously_posted_projects  total_cost  \\\n",
       "0                                      0.505882    0.029534   \n",
       "\n",
       "   proj_cat_Music & The Arts  proj_cat_Health & Sports  \\\n",
       "0                          1                         1   \n",
       "\n",
       "   proj_cat_Applied Learning  proj_cat_Literacy & Language  \\\n",
       "0                          0                             0   \n",
       "\n",
       "   proj_cat_Math & Science  proj_cat_Special Needs  proj_cat_History & Civics  \\\n",
       "0                        0                       0                          0   \n",
       "\n",
       "   proj_cat_Warmth  ...  res_cat_Reading Nooks  res_cat_Desks & Storage  \\\n",
       "0                0  ...                      0                        0   \n",
       "\n",
       "   res_cat_Instructional Technology  res_cat_Classroom Basics  \\\n",
       "0                                 0                         0   \n",
       "\n",
       "   res_cat_Educational Kits & Games  res_cat_Sports & Exercise Equipment  \\\n",
       "0                                 0                                    0   \n",
       "\n",
       "   res_cat_Musical Instruments  res_cat_Art Supplies  res_cat_Lab Equipment  \\\n",
       "0                            0                     0                      0   \n",
       "\n",
       "   res_cat_Visitors  \n",
       "0                 0  \n",
       "\n",
       "[1 rows x 53 columns]"
      ]
     },
     "execution_count": 17,
     "metadata": {},
     "output_type": "execute_result"
    }
   ],
   "source": [
    "df = X[X.columns[:-1]]\n",
    "df.head(1)"
   ]
  },
  {
   "cell_type": "code",
   "execution_count": 18,
   "metadata": {},
   "outputs": [
    {
     "data": {
      "text/plain": [
       "Index(['teacher_number_of_previously_posted_projects', 'total_cost',\n",
       "       'proj_cat_Music & The Arts', 'proj_cat_Health & Sports',\n",
       "       'proj_cat_Applied Learning', 'proj_cat_Literacy & Language',\n",
       "       'proj_cat_Math & Science', 'proj_cat_Special Needs',\n",
       "       'proj_cat_History & Civics', 'proj_cat_Warmth',\n",
       "       'proj_cat_Care & Hunger', 'proj_sub_cat_Performing Arts',\n",
       "       'proj_sub_cat_Team Sports', 'proj_sub_cat_Character Education',\n",
       "       'proj_sub_cat_Literature & Writing', 'proj_sub_cat_Mathematics',\n",
       "       'proj_sub_cat_Literacy', 'proj_sub_cat_Early Development',\n",
       "       'proj_sub_cat_Environmental Science', 'proj_sub_cat_Health & Wellness',\n",
       "       'proj_sub_cat_Music', 'proj_sub_cat_Applied Sciences',\n",
       "       'proj_sub_cat_Visual Arts', 'proj_sub_cat_ESL',\n",
       "       'proj_sub_cat_Extracurricular', 'proj_sub_cat_Gym & Fitness',\n",
       "       'proj_sub_cat_History & Geography',\n",
       "       'proj_sub_cat_College & Career Prep',\n",
       "       'proj_sub_cat_Health & Life Science', 'proj_sub_cat_Other',\n",
       "       'proj_sub_cat_Social Sciences', 'proj_sub_cat_Foreign Languages',\n",
       "       'proj_sub_cat_Parent Involvement', 'proj_sub_cat_Nutrition Education',\n",
       "       'proj_sub_cat_Civics & Government', 'proj_sub_cat_Community Service',\n",
       "       'proj_sub_cat_Financial Literacy', 'proj_sub_cat_Economics',\n",
       "       'res_cat_Supplies', 'res_cat_Computers & Tablets', 'res_cat_Food',\n",
       "       'res_cat_Clothing & Hygiene', 'res_cat_Flexible Seating',\n",
       "       'res_cat_Reading Nooks', 'res_cat_Desks & Storage',\n",
       "       'res_cat_Instructional Technology', 'res_cat_Classroom Basics',\n",
       "       'res_cat_Educational Kits & Games',\n",
       "       'res_cat_Sports & Exercise Equipment', 'res_cat_Musical Instruments',\n",
       "       'res_cat_Art Supplies', 'res_cat_Lab Equipment', 'res_cat_Visitors'],\n",
       "      dtype='object')"
      ]
     },
     "execution_count": 18,
     "metadata": {},
     "output_type": "execute_result"
    }
   ],
   "source": [
    "df.columns"
   ]
  },
  {
   "cell_type": "markdown",
   "metadata": {},
   "source": [
    "## TF-IDF Function \n",
    "- Change the min_df and max_features to reduce the number of features "
   ]
  },
  {
   "cell_type": "code",
   "execution_count": 19,
   "metadata": {},
   "outputs": [],
   "source": [
    "def tfidf(col,min_df, max_features, ngrams = 1):\n",
    "\n",
    "    df_temp = X.copy(deep = True)\n",
    "    \n",
    "    tfidf_vectorizer = TfidfVectorizer(min_df=min_df, max_features=max_features, ngram_range=(1, ngrams))\n",
    "    tfidf_vectorizer.fit(df_temp[col])\n",
    "\n",
    "    list_corpus = df_temp[col].tolist()\n",
    "    list_labels = y['project_is_approved'].tolist()\n",
    "\n",
    "    X_tvec = tfidf_vectorizer.transform(list_corpus)\n",
    "    \n",
    "    return X_tvec, list_labels"
   ]
  },
  {
   "cell_type": "markdown",
   "metadata": {},
   "source": [
    "## Logistic Regression (All features)\n",
    "### Features : \n",
    "1) Cost \n",
    "<br>2) Number of previously posted projects \n",
    "<br>3) Project Category \n",
    "<br>4) Project Subcategory \n",
    "<br>5) Project Resource Category \n",
    "<br>6) TF-IDF of project essays "
   ]
  },
  {
   "cell_type": "code",
   "execution_count": 88,
   "metadata": {},
   "outputs": [],
   "source": [
    "from sklearn.linear_model import LogisticRegressionCV\n",
    "from sklearn import preprocessing, metrics, model_selection\n",
    "from sklearn.metrics import roc_curve, auc\n",
    "from sklearn.metrics import confusion_matrix\n",
    "from sklearn.metrics import log_loss\n",
    "import matplotlib.pyplot as plt\n",
    "from sklearn.metrics import f1_score\n",
    "from sklearn.metrics import precision_score\n",
    "from sklearn.metrics import recall_score\n",
    "from sklearn.metrics import accuracy_score\n",
    "\n",
    "def training_logreg(X_train_log, X_test_log, y_train_log, y_test_log, preproc):\n",
    "    \n",
    "    clf = LogisticRegression(solver = 'lbfgs', multi_class = 'multinomial', n_jobs = -1)\n",
    "    #Fit training dataset\n",
    "    clf.fit(X_train_log, y_train_log) \n",
    "    \n",
    "    res = pd.DataFrame(columns = ['Preprocessing', 'Model', 'Precision', 'Recall', 'F1-score', 'Testing Accuracy', 'Training Accuracy'])\n",
    "    \n",
    "    y_pred_training=clf.predict(X_train_log)\n",
    "    y_pred = clf.predict(X_test_log)\n",
    "    \n",
    "    f1 = f1_score(y_test_log, y_pred)\n",
    "    pres = precision_score(y_test_log, y_pred)\n",
    "    rec = recall_score(y_test_log, y_pred)\n",
    "    acc = accuracy_score(y_test_log, y_pred)#compare output of x_test prediction with actual output \n",
    "    training_acc=accuracy_score(y_train_log,y_pred_training)#compare output of x_train with y_train \n",
    "\n",
    "    res = res.append({'Preprocessing': preproc, 'Model': f'Logistic Regression', 'Precision': pres, \n",
    "                     'Recall': rec, 'F1-score': f1, 'Testing Accuracy': acc, 'Training Accuracy':training_acc}, ignore_index = True)\n",
    "    \n",
    "    #Confusion matrix \n",
    "    conf_NB = confusion_matrix(y_test_log, y_pred)    \n",
    "\n",
    "    print(\"Confusion matrix:\\n\",conf_NB)\n",
    "    \n",
    "    # Plot ROC curve\n",
    "    preds=clf.predict_proba(X_test_log)[:,1]\n",
    "    fpr, tpr, threshold = roc_curve(y_test_log, preds)\n",
    "    roc_auc = auc(fpr, tpr)\n",
    "    \n",
    "    #Plot ROC\n",
    "\n",
    "    plt.title('Receiver Operating Characteristic')\n",
    "    plt.plot(fpr, tpr, 'b', label = 'AUC = %0.2f' % roc_auc)\n",
    "    plt.legend(loc = 'lower right')\n",
    "    plt.plot([0, 1], [0, 1],'r--')\n",
    "    plt.xlim([0, 1])\n",
    "    plt.ylim([0, 1])\n",
    "    plt.ylabel('True Positive Rate')\n",
    "    plt.xlabel('False Positive Rate')\n",
    "    plt.show()\n",
    "    \n",
    "    \n",
    "    return res"
   ]
  },
  {
   "cell_type": "code",
   "execution_count": 89,
   "metadata": {},
   "outputs": [
    {
     "name": "stdout",
     "output_type": "stream",
     "text": [
      "Confusion matrix:\n",
      " [[  936   809]\n",
      " [ 4383 12631]]\n"
     ]
    },
    {
     "data": {
      "image/png": "[encoded data removed]",
      "text/plain": [
       "<Figure size 432x288 with 1 Axes>"
      ]
     },
     "metadata": {
      "needs_background": "light"
     },
     "output_type": "display_data"
    }
   ],
   "source": [
    "# DataFrame for result evaluation\n",
    "from scipy.sparse import hstack, csr_matrix\n",
    "smote_result = pd.DataFrame(columns = ['Preprocessing', 'Model', 'Precision', 'Recall', 'F1-score', 'Testing Accuracy', 'Training Accuracy'])\n",
    "\n",
    "smote_over_sample = SMOTE(sampling_strategy='minority')\n",
    "\n",
    "# Testing TF-IDF with 1-gram\n",
    "\n",
    "Xtvec, ytvec = tfidf('essay', min_df=20, max_features=10000, ngrams = 1)\n",
    "traindex=df.index\n",
    "X_mat = hstack([csr_matrix(df.loc[traindex,:].values),Xtvec[0:traindex.shape[0]]])\n",
    "\n",
    "X_train, X_test, y_train, y_test = train_test_split(X_mat, ytvec, test_size=0.2, random_state=40)\n",
    "\n",
    "X_smote_train, y_smote_train = smote_over_sample.fit_resample(X_train, y_train)\n",
    "\n",
    "smote_result = smote_result.append(training_logreg(X_smote_train, X_test, y_smote_train, y_test, 'TF-IDF 1-grams'), ignore_index = True)\n",
    "\n"
   ]
  },
  {
   "cell_type": "code",
   "execution_count": 90,
   "metadata": {},
   "outputs": [
    {
     "data": {
      "text/html": [
       "<div>\n",
       "<style scoped>\n",
       "    .dataframe tbody tr th:only-of-type {\n",
       "        vertical-align: middle;\n",
       "    }\n",
       "\n",
       "    .dataframe tbody tr th {\n",
       "        vertical-align: top;\n",
       "    }\n",
       "\n",
       "    .dataframe thead th {\n",
       "        text-align: right;\n",
       "    }\n",
       "</style>\n",
       "<table border=\"1\" class=\"dataframe\">\n",
       "  <thead>\n",
       "    <tr style=\"text-align: right;\">\n",
       "      <th></th>\n",
       "      <th>Preprocessing</th>\n",
       "      <th>Model</th>\n",
       "      <th>Precision</th>\n",
       "      <th>Recall</th>\n",
       "      <th>F1-score</th>\n",
       "      <th>Testing Accuracy</th>\n",
       "      <th>Training Accuracy</th>\n",
       "    </tr>\n",
       "  </thead>\n",
       "  <tbody>\n",
       "    <tr>\n",
       "      <td>0</td>\n",
       "      <td>TF-IDF 1-grams</td>\n",
       "      <td>Logistic Regression</td>\n",
       "      <td>0.939807</td>\n",
       "      <td>0.742389</td>\n",
       "      <td>0.829513</td>\n",
       "      <td>0.723226</td>\n",
       "      <td>0.781536</td>\n",
       "    </tr>\n",
       "  </tbody>\n",
       "</table>\n",
       "</div>"
      ],
      "text/plain": [
       "    Preprocessing                Model  Precision    Recall  F1-score  \\\n",
       "0  TF-IDF 1-grams  Logistic Regression   0.939807  0.742389  0.829513   \n",
       "\n",
       "   Testing Accuracy  Training Accuracy  \n",
       "0          0.723226           0.781536  "
      ]
     },
     "execution_count": 90,
     "metadata": {},
     "output_type": "execute_result"
    }
   ],
   "source": [
    "smote_result"
   ]
  },
  {
   "cell_type": "markdown",
   "metadata": {},
   "source": [
    "## 2. Multinomial Naive Bayes (All features) "
   ]
  },
  {
   "cell_type": "code",
   "execution_count": 92,
   "metadata": {},
   "outputs": [],
   "source": [
    "from sklearn.naive_bayes import MultinomialNB\n",
    "from sklearn.model_selection import GridSearchCV\n",
    "from sklearn.metrics import roc_curve, auc\n",
    "from sklearn.metrics import confusion_matrix\n",
    "from sklearn.metrics import log_loss\n",
    "import matplotlib.pyplot as plt\n",
    "from sklearn.metrics import f1_score\n",
    "from sklearn.metrics import precision_score\n",
    "from sklearn.metrics import recall_score\n",
    "from sklearn.metrics import accuracy_score\n",
    "from sklearn import preprocessing, metrics, model_selection\n",
    "from sklearn.naive_bayes import GaussianNB\n",
    "params = {}\n",
    "def training_NB(X_train_log, X_test_log, y_train_log, y_test_log, preproc):\n",
    "\n",
    "    clf = MultinomialNB()\n",
    "    clf.fit(X_train_log, y_train_log)\n",
    "    \n",
    "    res = pd.DataFrame(columns = ['Preprocessing', 'Model', 'Precision', 'Recall', 'F1-score', 'Testing Accuracy', 'Training Accuracy'])\n",
    "    \n",
    "    y_pred_training=clf.predict(X_train_log)\n",
    "    y_pred = clf.predict(X_test_log)\n",
    "    \n",
    "    f1 = f1_score(y_test_log, y_pred)\n",
    "    pres = precision_score(y_test_log, y_pred)\n",
    "    rec = recall_score(y_test_log, y_pred)\n",
    "    acc = accuracy_score(y_test_log, y_pred)#compare output of x_test prediction with actual output \n",
    "    training_acc=accuracy_score(y_train_log,y_pred_training)#compare output of x_train with y_train \n",
    "\n",
    "    res = res.append({'Preprocessing': preproc, 'Model': f'Naive Bayes', 'Precision': pres, \n",
    "                     'Recall': rec, 'F1-score': f1, 'Testing Accuracy': acc, 'Training Accuracy':training_acc}, ignore_index = True)\n",
    "    \n",
    "    #Confusion matrix \n",
    "    conf_NB = confusion_matrix(y_test_log, y_pred)    \n",
    "\n",
    "    print(\"Confusion matrix:\\n\",conf_NB)\n",
    "    \n",
    "    # Plot ROC curve\n",
    "    preds=clf.predict_proba(X_test_log)[:,1]\n",
    "    fpr, tpr, threshold = roc_curve(y_test_log, preds)\n",
    "    roc_auc = auc(fpr, tpr)\n",
    "    \n",
    "    #Plot ROC\n",
    "\n",
    "    plt.title('Receiver Operating Characteristic')\n",
    "    plt.plot(fpr, tpr, 'b', label = 'AUC = %0.2f' % roc_auc)\n",
    "    plt.legend(loc = 'lower right')\n",
    "    plt.plot([0, 1], [0, 1],'r--')\n",
    "    plt.xlim([0, 1])\n",
    "    plt.ylim([0, 1])\n",
    "    plt.ylabel('True Positive Rate')\n",
    "    plt.xlabel('False Positive Rate')\n",
    "    plt.show()\n",
    "    \n",
    "    \n",
    "    return res"
   ]
  },
  {
   "cell_type": "code",
   "execution_count": 93,
   "metadata": {},
   "outputs": [
    {
     "name": "stdout",
     "output_type": "stream",
     "text": [
      "Confusion matrix:\n",
      " [[ 1037   708]\n",
      " [ 5161 11853]]\n"
     ]
    },
    {
     "data": {
      "image/png": "[encoded data removed]",
      "text/plain": [
       "<Figure size 432x288 with 1 Axes>"
      ]
     },
     "metadata": {
      "needs_background": "light"
     },
     "output_type": "display_data"
    }
   ],
   "source": [
    "# DataFrame for result evaluation\n",
    "\n",
    "# DataFrame for result evaluation\n",
    "from scipy.sparse import hstack, csr_matrix\n",
    "nb_result = pd.DataFrame(columns = ['Preprocessing', 'Model', 'Precision', 'Recall', 'F1-score', 'Testing Accuracy', 'Training Accuracy'])\n",
    "\n",
    "smote_over_sample = SMOTE(sampling_strategy='minority')\n",
    "\n",
    "# Testing TF-IDF with 1-gram\n",
    "\n",
    "#Xtvec, ytvec = tfidf('essay', ngrams = 1)\n",
    "#traindex=df.index\n",
    "#X_mat = hstack([csr_matrix(df.loc[traindex,:].values),Xtvec[0:traindex.shape[0]]])\n",
    "\n",
    "#X_train, X_test, y_train, y_test = train_test_split(X_mat, ytvec, test_size=0.2, random_state=40)\n",
    "\n",
    "#X_smote_train, y_smote_train = smote_over_sample.fit_resample(X_train, y_train)\n",
    "\n",
    "# Testing TF-IDF with 1-GRAM \n",
    "nb_result= nb_result.append(training_NB(X_smote_train, X_test, y_smote_train, y_test, 'TF-IDF 1-grams'), ignore_index = True)\n",
    "\n"
   ]
  },
  {
   "cell_type": "code",
   "execution_count": 94,
   "metadata": {},
   "outputs": [
    {
     "data": {
      "text/html": [
       "<div>\n",
       "<style scoped>\n",
       "    .dataframe tbody tr th:only-of-type {\n",
       "        vertical-align: middle;\n",
       "    }\n",
       "\n",
       "    .dataframe tbody tr th {\n",
       "        vertical-align: top;\n",
       "    }\n",
       "\n",
       "    .dataframe thead th {\n",
       "        text-align: right;\n",
       "    }\n",
       "</style>\n",
       "<table border=\"1\" class=\"dataframe\">\n",
       "  <thead>\n",
       "    <tr style=\"text-align: right;\">\n",
       "      <th></th>\n",
       "      <th>Preprocessing</th>\n",
       "      <th>Model</th>\n",
       "      <th>Precision</th>\n",
       "      <th>Recall</th>\n",
       "      <th>F1-score</th>\n",
       "      <th>Testing Accuracy</th>\n",
       "      <th>Training Accuracy</th>\n",
       "    </tr>\n",
       "  </thead>\n",
       "  <tbody>\n",
       "    <tr>\n",
       "      <td>0</td>\n",
       "      <td>TF-IDF 1-grams</td>\n",
       "      <td>Naive Bayes</td>\n",
       "      <td>0.943635</td>\n",
       "      <td>0.696662</td>\n",
       "      <td>0.801555</td>\n",
       "      <td>0.687137</td>\n",
       "      <td>0.696344</td>\n",
       "    </tr>\n",
       "  </tbody>\n",
       "</table>\n",
       "</div>"
      ],
      "text/plain": [
       "    Preprocessing        Model  Precision    Recall  F1-score  \\\n",
       "0  TF-IDF 1-grams  Naive Bayes   0.943635  0.696662  0.801555   \n",
       "\n",
       "   Testing Accuracy  Training Accuracy  \n",
       "0          0.687137           0.696344  "
      ]
     },
     "execution_count": 94,
     "metadata": {},
     "output_type": "execute_result"
    }
   ],
   "source": [
    "nb_result"
   ]
  },
  {
   "cell_type": "code",
   "execution_count": 106,
   "metadata": {},
   "outputs": [
    {
     "data": {
      "text/plain": [
       "<135894x8681 sparse matrix of type '<class 'numpy.float64'>'\n",
       "\twith 15729169 stored elements in Compressed Sparse Row format>"
      ]
     },
     "execution_count": 106,
     "metadata": {},
     "output_type": "execute_result"
    }
   ],
   "source": [
    "X_smote_train"
   ]
  },
  {
   "cell_type": "markdown",
   "metadata": {},
   "source": [
    "\n",
    "## 3.1 Logistic Regression Validation"
   ]
  },
  {
   "cell_type": "code",
   "execution_count": 20,
   "metadata": {},
   "outputs": [],
   "source": [
    "# DataFrame for result evaluation\n",
    "from scipy.sparse import hstack, csr_matrix\n",
    "smote_result = pd.DataFrame(columns = ['Preprocessing', 'Model', 'Precision', 'Recall', 'F1-score', 'Testing Accuracy', 'Training Accuracy'])\n",
    "\n",
    "smote_over_sample = SMOTE(sampling_strategy='minority')\n",
    "\n",
    "# Testing TF-IDF with 1-gram\n",
    "\n",
    "Xtvec, ytvec = tfidf('essay', min_df=10, max_features=30000, ngrams = 1)\n",
    "traindex=df.index\n",
    "X_mat = hstack([csr_matrix(df.loc[traindex,:].values),Xtvec[0:traindex.shape[0]]])\n",
    "\n",
    "X_train, X_test, y_train, y_test = train_test_split(X_mat, ytvec, test_size=0.2, random_state=40)\n"
   ]
  },
  {
   "cell_type": "code",
   "execution_count": 101,
   "metadata": {},
   "outputs": [],
   "source": [
    "y_train=pd.DataFrame(y_train)"
   ]
  },
  {
   "cell_type": "code",
   "execution_count": 102,
   "metadata": {},
   "outputs": [
    {
     "name": "stderr",
     "output_type": "stream",
     "text": [
      "C:\\Users\\liewm\\Anaconda3\\lib\\site-packages\\sklearn\\utils\\validation.py:724: DataConversionWarning: A column-vector y was passed when a 1d array was expected. Please change the shape of y to (n_samples, ), for example using ravel().\n",
      "  y = column_or_1d(y, warn=True)\n",
      "C:\\Users\\liewm\\Anaconda3\\lib\\site-packages\\sklearn\\linear_model\\logistic.py:432: FutureWarning: Default solver will be changed to 'lbfgs' in 0.22. Specify a solver to silence this warning.\n",
      "  FutureWarning)\n"
     ]
    },
    {
     "name": "stdout",
     "output_type": "stream",
     "text": [
      "confusion matrix [[  709   708]\n",
      " [ 3276 10314]]\n",
      "accuracy 0.7345238888518691\n",
      "confusion matrix [[  722   695]\n",
      " [ 3382 10208]]\n",
      "accuracy 0.7283267808356101\n",
      "confusion matrix [[  705   712]\n",
      " [ 3231 10358]]\n",
      "accuracy 0.73723843795815\n",
      "confusion matrix [[  712   705]\n",
      " [ 3285 10304]]\n",
      "accuracy 0.7341063574570172\n",
      "confusion matrix [[  734   683]\n",
      " [ 3269 10320]]\n",
      "accuracy 0.7366386778621885\n"
     ]
    },
    {
     "data": {
      "image/png": "[encoded data removed]",
      "text/plain": [
       "<Figure size 432x288 with 1 Axes>"
      ]
     },
     "metadata": {
      "needs_background": "light"
     },
     "output_type": "display_data"
    }
   ],
   "source": [
    "import numpy as np\n",
    "from scipy import interp\n",
    "skf = StratifiedKFold(n_splits=5,random_state=40)\n",
    "\n",
    "mean_tpr = 0.0\n",
    "mean_fpr = np.linspace(0, 1, 100)\n",
    "all_tpr = []\n",
    "matrix = []\n",
    "i=1\n",
    "acc_scores_lr1 = []\n",
    "\n",
    "os = SMOTE(random_state=40)\n",
    "#columns = X_test_2.columns # use RFE features\n",
    "\n",
    "model_lr=LogisticRegression()\n",
    "\n",
    "for train, test in skf.split(X_train, y_train):\n",
    "    \n",
    "    train_data_x = X_train[train]\n",
    "    train_data_y = y_train.iloc[train]\n",
    "    val_data_X = X_train[test]\n",
    "    val_data_y = y_train.iloc[test]\n",
    "    \n",
    "    os_data_X, os_data_y=os.fit_sample(train_data_x, train_data_y)\n",
    "   \n",
    "    clf =  model_lr.fit(os_data_X, os_data_y)\n",
    "    probas_ = clf.predict_proba(val_data_X)\n",
    "    # Compute ROC curve and area the curve\n",
    "    fpr, tpr, thresholds = metrics.roc_curve(val_data_y, probas_[:, 1])\n",
    "    print(\"confusion matrix\", metrics.confusion_matrix(val_data_y, clf.predict(val_data_X)) )\n",
    "    print(\"accuracy\", metrics.accuracy_score(val_data_y, clf.predict(val_data_X)) )\n",
    "    matrix.append( metrics.confusion_matrix(val_data_y, clf.predict(val_data_X)))\n",
    "    acc_scores_lr1.append(metrics.accuracy_score(val_data_y, clf.predict(val_data_X)))\n",
    "    mean_tpr += interp(mean_fpr, fpr, tpr)\n",
    "    mean_tpr[0] = 0.0\n",
    "    roc_auc = metrics.auc(fpr, tpr)\n",
    "    plt.plot(fpr, tpr, lw=1, label='ROC fold %d (area = %0.2f)' % (i, roc_auc))\n",
    "    i=i+1\n",
    "\n",
    "plt.plot([0, 1], [0, 1], '--', color=(0.6, 0.6, 0.6), label='Luck')\n",
    "\n",
    "mean_tpr /= 5\n",
    "mean_tpr[-1] = 1.0\n",
    "mean_auc = metrics.auc(mean_fpr, mean_tpr)\n",
    "plt.plot(mean_fpr, mean_tpr, 'k--',\n",
    "         label='Mean ROC (area = %0.2f)' % mean_auc, lw=2)\n",
    "\n",
    "plt.xlim([-0.05, 1.05])\n",
    "plt.ylim([-0.05, 1.05])\n",
    "plt.xlabel('False Positive Rate')\n",
    "plt.ylabel('True Positive Rate')\n",
    "plt.title('Receiver operating characteristic example')\n",
    "plt.legend(loc=\"lower right\")\n",
    "plt.show()"
   ]
  },
  {
   "cell_type": "code",
   "execution_count": 103,
   "metadata": {},
   "outputs": [
    {
     "data": {
      "text/plain": [
       "array([[ 3582,  3503],\n",
       "       [16443, 51504]], dtype=int64)"
      ]
     },
     "execution_count": 103,
     "metadata": {},
     "output_type": "execute_result"
    }
   ],
   "source": [
    "sum(matrix)"
   ]
  },
  {
   "cell_type": "code",
   "execution_count": 104,
   "metadata": {},
   "outputs": [
    {
     "data": {
      "text/plain": [
       "0.7341668285929671"
      ]
     },
     "execution_count": 104,
     "metadata": {},
     "output_type": "execute_result"
    }
   ],
   "source": [
    "sum(acc_scores_lr1)/5"
   ]
  },
  {
   "cell_type": "code",
   "execution_count": 105,
   "metadata": {},
   "outputs": [
    {
     "data": {
      "text/plain": [
       "0.003155380468248189"
      ]
     },
     "execution_count": 105,
     "metadata": {},
     "output_type": "execute_result"
    }
   ],
   "source": [
    "np.std(acc_scores_lr1)"
   ]
  },
  {
   "cell_type": "markdown",
   "metadata": {},
   "source": [
    "## 3.2 Naive Bayes Validation"
   ]
  },
  {
   "cell_type": "code",
   "execution_count": 66,
   "metadata": {},
   "outputs": [
    {
     "name": "stderr",
     "output_type": "stream",
     "text": [
      "C:\\Users\\liewm\\Anaconda3\\lib\\site-packages\\sklearn\\utils\\validation.py:724: DataConversionWarning: A column-vector y was passed when a 1d array was expected. Please change the shape of y to (n_samples, ), for example using ravel().\n",
      "  y = column_or_1d(y, warn=True)\n"
     ]
    },
    {
     "name": "stdout",
     "output_type": "stream",
     "text": [
      "confusion matrix [[ 792  625]\n",
      " [4141 9449]]\n",
      "accuracy 0.682414873059239\n"
     ]
    },
    {
     "name": "stderr",
     "output_type": "stream",
     "text": [
      "C:\\Users\\liewm\\Anaconda3\\lib\\site-packages\\sklearn\\utils\\validation.py:724: DataConversionWarning: A column-vector y was passed when a 1d array was expected. Please change the shape of y to (n_samples, ), for example using ravel().\n",
      "  y = column_or_1d(y, warn=True)\n"
     ]
    },
    {
     "name": "stdout",
     "output_type": "stream",
     "text": [
      "confusion matrix [[ 793  624]\n",
      " [4296 9294]]\n",
      "accuracy 0.6721529952688745\n"
     ]
    },
    {
     "name": "stderr",
     "output_type": "stream",
     "text": [
      "C:\\Users\\liewm\\Anaconda3\\lib\\site-packages\\sklearn\\utils\\validation.py:724: DataConversionWarning: A column-vector y was passed when a 1d array was expected. Please change the shape of y to (n_samples, ), for example using ravel().\n",
      "  y = column_or_1d(y, warn=True)\n"
     ]
    },
    {
     "name": "stdout",
     "output_type": "stream",
     "text": [
      "confusion matrix [[ 762  655]\n",
      " [4092 9497]]\n",
      "accuracy 0.6836598693855791\n"
     ]
    },
    {
     "name": "stderr",
     "output_type": "stream",
     "text": [
      "C:\\Users\\liewm\\Anaconda3\\lib\\site-packages\\sklearn\\utils\\validation.py:724: DataConversionWarning: A column-vector y was passed when a 1d array was expected. Please change the shape of y to (n_samples, ), for example using ravel().\n",
      "  y = column_or_1d(y, warn=True)\n"
     ]
    },
    {
     "name": "stdout",
     "output_type": "stream",
     "text": [
      "confusion matrix [[ 780  637]\n",
      " [4002 9587]]\n",
      "accuracy 0.6908569905371185\n"
     ]
    },
    {
     "name": "stderr",
     "output_type": "stream",
     "text": [
      "C:\\Users\\liewm\\Anaconda3\\lib\\site-packages\\sklearn\\utils\\validation.py:724: DataConversionWarning: A column-vector y was passed when a 1d array was expected. Please change the shape of y to (n_samples, ), for example using ravel().\n",
      "  y = column_or_1d(y, warn=True)\n"
     ]
    },
    {
     "name": "stdout",
     "output_type": "stream",
     "text": [
      "confusion matrix [[ 809  608]\n",
      " [4109 9480]]\n",
      "accuracy 0.6856590697054512\n"
     ]
    },
    {
     "data": {
      "image/png": "[encoded data removed]",
      "text/plain": [
       "<Figure size 432x288 with 1 Axes>"
      ]
     },
     "metadata": {
      "needs_background": "light"
     },
     "output_type": "display_data"
    }
   ],
   "source": [
    "from sklearn.naive_bayes import MultinomialNB\n",
    "import numpy as np\n",
    "from scipy import interp\n",
    "skf = StratifiedKFold(n_splits=5,random_state=40)\n",
    "\n",
    "mean_tpr = 0.0\n",
    "mean_fpr = np.linspace(0, 1, 100)\n",
    "all_tpr = []\n",
    "matrix = []\n",
    "f1=[]\n",
    "pres=[]\n",
    "rec=[]\n",
    "i=1\n",
    "acc_scores_lr1 = []\n",
    "\n",
    "os = SMOTE(random_state=40)\n",
    "#columns = X_test_2.columns # use RFE features\n",
    "\n",
    "model_nb=MultinomialNB()\n",
    "\n",
    "for train, test in skf.split(X_train, y_train):\n",
    "    \n",
    "    train_data_x = X_train[train]\n",
    "    train_data_y = y_train.iloc[train]\n",
    "    val_data_X = X_train[test]\n",
    "    val_data_y = y_train.iloc[test]\n",
    "    \n",
    "    os_data_X, os_data_y=os.fit_sample(train_data_x, train_data_y)\n",
    "    \n",
    "    clf =  model_nb.fit(os_data_X, os_data_y)\n",
    "    probas_ = clf.predict_proba(val_data_X)\n",
    "    f1.append(f1_score(clf.predict(val_data_X), val_data_y, average = 'weighted'))\n",
    "    pres.append(precision_score(clf.predict(val_data_X), val_data_y, average = 'weighted'))\n",
    "    rec.append(recall_score(clf.predict(val_data_X), val_data_y, average = 'weighted'))\n",
    "    # Compute ROC curve and area the curve\n",
    "    fpr, tpr, thresholds = metrics.roc_curve(val_data_y, probas_[:, 1])\n",
    "    print(\"confusion matrix\", metrics.confusion_matrix(val_data_y, clf.predict(val_data_X)) )\n",
    "    print(\"accuracy\", metrics.accuracy_score(val_data_y, clf.predict(val_data_X)) )\n",
    "    matrix.append( metrics.confusion_matrix(val_data_y, clf.predict(val_data_X)))\n",
    "    acc_scores_lr1.append(metrics.accuracy_score(val_data_y, clf.predict(val_data_X)))\n",
    "    mean_tpr += interp(mean_fpr, fpr, tpr)\n",
    "    mean_tpr[0] = 0.0\n",
    "    roc_auc = metrics.auc(fpr, tpr)\n",
    "    plt.plot(fpr, tpr, lw=1, label='ROC fold %d (area = %0.2f)' % (i, roc_auc))\n",
    "    i=i+1\n",
    "\n",
    "plt.plot([0, 1], [0, 1], '--', color=(0.6, 0.6, 0.6), label='Luck')\n",
    "\n",
    "mean_tpr /= 5\n",
    "mean_tpr[-1] = 1.0\n",
    "mean_auc = metrics.auc(mean_fpr, mean_tpr)\n",
    "plt.plot(mean_fpr, mean_tpr, 'k--',\n",
    "         label='Mean ROC (area = %0.2f)' % mean_auc, lw=2)\n",
    "\n",
    "plt.xlim([-0.05, 1.05])\n",
    "plt.ylim([-0.05, 1.05])\n",
    "plt.xlabel('False Positive Rate')\n",
    "plt.ylabel('True Positive Rate')\n",
    "plt.title('Receiver operating characteristic example')\n",
    "plt.legend(loc=\"lower right\")\n",
    "plt.show()"
   ]
  },
  {
   "cell_type": "code",
   "execution_count": 96,
   "metadata": {},
   "outputs": [
    {
     "data": {
      "text/plain": [
       "array([[ 3936,  3149],\n",
       "       [20640, 47307]], dtype=int64)"
      ]
     },
     "execution_count": 96,
     "metadata": {},
     "output_type": "execute_result"
    }
   ],
   "source": [
    "sum(matrix)"
   ]
  },
  {
   "cell_type": "code",
   "execution_count": 97,
   "metadata": {},
   "outputs": [
    {
     "data": {
      "text/plain": [
       "0.6829487595912525"
      ]
     },
     "execution_count": 97,
     "metadata": {},
     "output_type": "execute_result"
    }
   ],
   "source": [
    "np.mean(acc_scores_lr1)"
   ]
  },
  {
   "cell_type": "code",
   "execution_count": 70,
   "metadata": {},
   "outputs": [
    {
     "data": {
      "text/plain": [
       "0.006119234214855027"
      ]
     },
     "execution_count": 70,
     "metadata": {},
     "output_type": "execute_result"
    }
   ],
   "source": [
    "np.std(acc_scores_lr1)"
   ]
  },
  {
   "cell_type": "code",
   "execution_count": 72,
   "metadata": {},
   "outputs": [
    {
     "data": {
      "text/plain": [
       "0.6188051970656876"
      ]
     },
     "execution_count": 72,
     "metadata": {},
     "output_type": "execute_result"
    }
   ],
   "source": [
    "np.mean(f1)"
   ]
  },
  {
   "cell_type": "code",
   "execution_count": 73,
   "metadata": {},
   "outputs": [
    {
     "data": {
      "text/plain": [
       "0.650232718493608"
      ]
     },
     "execution_count": 73,
     "metadata": {},
     "output_type": "execute_result"
    }
   ],
   "source": [
    "np.mean(pres)"
   ]
  },
  {
   "cell_type": "code",
   "execution_count": 75,
   "metadata": {},
   "outputs": [
    {
     "data": {
      "text/plain": [
       "0.6829487595912525"
      ]
     },
     "execution_count": 75,
     "metadata": {},
     "output_type": "execute_result"
    }
   ],
   "source": [
    "np.mean(rec)"
   ]
  },
  {
   "cell_type": "code",
   "execution_count": 76,
   "metadata": {},
   "outputs": [
    {
     "data": {
      "text/plain": [
       "[0.618084724038271,\n",
       " 0.6052394303851064,\n",
       " 0.6198686472995193,\n",
       " 0.6287934214404497,\n",
       " 0.6220397621650913]"
      ]
     },
     "execution_count": 76,
     "metadata": {},
     "output_type": "execute_result"
    }
   ],
   "source": [
    "f1"
   ]
  },
  {
   "cell_type": "code",
   "execution_count": 78,
   "metadata": {},
   "outputs": [
    {
     "data": {
      "text/plain": [
       "0.6829487595912525"
      ]
     },
     "execution_count": 78,
     "metadata": {},
     "output_type": "execute_result"
    }
   ],
   "source": [
    "np.mean(acc_scores_lr1)"
   ]
  },
  {
   "cell_type": "code",
   "execution_count": 95,
   "metadata": {},
   "outputs": [
    {
     "data": {
      "text/plain": [
       "68.29480000000001"
      ]
     },
     "execution_count": 95,
     "metadata": {},
     "output_type": "execute_result"
    }
   ],
   "source": [
    "sum([68.241,67.215,68.366,69.086,68.566])/5\n"
   ]
  },
  {
   "cell_type": "code",
   "execution_count": null,
   "metadata": {},
   "outputs": [],
   "source": [
    "est_model2 = sm.Logit(os_data_y, os_data_X2)\n",
    "est2_model2 = est_model2.fit()\n",
    "print(est2_model2.summary())"
   ]
  },
  {
   "cell_type": "code",
   "execution_count": null,
   "metadata": {},
   "outputs": [],
   "source": []
  }
 ],
 "metadata": {
  "colab": {
   "collapsed_sections": [],
   "name": "logistic_regression(updated).ipynb",
   "provenance": []
  },
  "kernelspec": {
   "display_name": "Python 3",
   "language": "python",
   "name": "python3"
  },
  "language_info": {
   "codemirror_mode": {
    "name": "ipython",
    "version": 3
   },
   "file_extension": ".py",
   "mimetype": "text/x-python",
   "name": "python",
   "nbconvert_exporter": "python",
   "pygments_lexer": "ipython3",
   "version": "3.7.4"
  }
 },
 "nbformat": 4,
 "nbformat_minor": 1
}
