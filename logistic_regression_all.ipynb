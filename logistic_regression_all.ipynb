{
 "cells": [
  {
   "cell_type": "code",
   "execution_count": 1,
   "metadata": {
    "colab": {},
    "colab_type": "code",
    "id": "MQoj8zyFKwvJ"
   },
   "outputs": [
    {
     "name": "stderr",
     "output_type": "stream",
     "text": [
      "Using TensorFlow backend.\n"
     ]
    }
   ],
   "source": [
    "import pandas as pd\n",
    "import collections\n",
    "from sklearn import preprocessing\n",
    "from sklearn import metrics\n",
    "import matplotlib.pyplot as plt \n",
    "plt.rc(\"font\", size=14)\n",
    "from sklearn.linear_model import LogisticRegression\n",
    "from sklearn.model_selection import train_test_split\n",
    "from sklearn.preprocessing import StandardScaler\n",
    "import sklearn.metrics as metrics\n",
    "import statsmodels.api as sm\n",
    "from scipy import stats\n",
    "import seaborn as sns\n",
    "sns.set(style=\"white\")\n",
    "sns.set(style=\"whitegrid\", color_codes=True)\n",
    "from imblearn.over_sampling import SMOTE \n",
    "from sklearn import svm"
   ]
  },
  {
   "cell_type": "code",
   "execution_count": 2,
   "metadata": {},
   "outputs": [
    {
     "name": "stderr",
     "output_type": "stream",
     "text": [
      "[nltk_data] Downloading package punkt to\n",
      "[nltk_data]     C:\\Users\\liewm\\AppData\\Roaming\\nltk_data...\n",
      "[nltk_data]   Package punkt is already up-to-date!\n",
      "[nltk_data] Downloading package stopwords to\n",
      "[nltk_data]     C:\\Users\\liewm\\AppData\\Roaming\\nltk_data...\n",
      "[nltk_data]   Package stopwords is already up-to-date!\n",
      "[nltk_data] Downloading package wordnet to\n",
      "[nltk_data]     C:\\Users\\liewm\\AppData\\Roaming\\nltk_data...\n",
      "[nltk_data]   Package wordnet is already up-to-date!\n"
     ]
    }
   ],
   "source": [
    "import pandas as pd\n",
    "import collections\n",
    "from sklearn import preprocessing\n",
    "from sklearn import metrics\n",
    "import matplotlib.pyplot as plt \n",
    "plt.rc(\"font\", size=14)\n",
    "from sklearn.linear_model import LogisticRegression\n",
    "from sklearn.model_selection import train_test_split\n",
    "from sklearn.preprocessing import StandardScaler\n",
    "import statsmodels.api as sm\n",
    "from scipy import stats\n",
    "import seaborn as sns\n",
    "import nltk\n",
    "from nltk.tokenize import word_tokenize\n",
    "nltk.download('punkt')\n",
    "nltk.download('stopwords')\n",
    "from nltk.corpus import stopwords\n",
    "stop_words = set(stopwords.words(\"english\"))\n",
    "from nltk.stem.porter import PorterStemmer\n",
    "nltk.download('wordnet')\n",
    "from nltk.stem import WordNetLemmatizer\n",
    "from sklearn.feature_extraction.text import TfidfVectorizer\n",
    "import spacy\n",
    "\n",
    "\n",
    "from sklearn.linear_model import LogisticRegression\n",
    "from sklearn.model_selection import StratifiedKFold\n",
    "from sklearn.feature_extraction.text import CountVectorizer,TfidfVectorizer\n",
    "from sklearn.decomposition import TruncatedSVD\n",
    "from sklearn.metrics import log_loss,confusion_matrix,classification_report,roc_curve,auc\n",
    "\n",
    "import string\n",
    "import nltk\n",
    "from nltk.corpus import stopwords\n",
    "from nltk.tokenize import word_tokenize\n",
    "from scipy import sparse\n",
    "%matplotlib inline\n"
   ]
  },
  {
   "cell_type": "code",
   "execution_count": 3,
   "metadata": {
    "colab": {
     "base_uri": "https://localhost:8080/",
     "height": 598
    },
    "colab_type": "code",
    "id": "f-a4S5Ejtl1Z",
    "outputId": "5b6a5ba8-9955-4c0a-c82d-428606945c14"
   },
   "outputs": [
    {
     "name": "stderr",
     "output_type": "stream",
     "text": [
      "C:\\Users\\liewm\\Anaconda3\\lib\\site-packages\\IPython\\core\\interactiveshell.py:3058: DtypeWarning: Columns (0,58,59,60) have mixed types. Specify dtype option on import or set low_memory=False.\n",
      "  interactivity=interactivity, compiler=compiler, result=result)\n"
     ]
    },
    {
     "data": {
      "text/html": [
       "<div>\n",
       "<style scoped>\n",
       "    .dataframe tbody tr th:only-of-type {\n",
       "        vertical-align: middle;\n",
       "    }\n",
       "\n",
       "    .dataframe tbody tr th {\n",
       "        vertical-align: top;\n",
       "    }\n",
       "\n",
       "    .dataframe thead th {\n",
       "        text-align: right;\n",
       "    }\n",
       "</style>\n",
       "<table border=\"1\" class=\"dataframe\">\n",
       "  <thead>\n",
       "    <tr style=\"text-align: right;\">\n",
       "      <th></th>\n",
       "      <th>id</th>\n",
       "      <th>teacher_id</th>\n",
       "      <th>teacher_prefix</th>\n",
       "      <th>school_state</th>\n",
       "      <th>project_submitted_datetime</th>\n",
       "      <th>project_grade_category</th>\n",
       "      <th>project_subject_categories</th>\n",
       "      <th>project_subject_subcategories</th>\n",
       "      <th>project_title</th>\n",
       "      <th>project_essay_1</th>\n",
       "      <th>...</th>\n",
       "      <th>res_cat_Classroom Basics</th>\n",
       "      <th>res_cat_Educational Kits &amp; Games</th>\n",
       "      <th>res_cat_Sports &amp; Exercise Equipment</th>\n",
       "      <th>res_cat_Musical Instruments</th>\n",
       "      <th>res_cat_Art Supplies</th>\n",
       "      <th>res_cat_Lab Equipment</th>\n",
       "      <th>res_cat_Visitors</th>\n",
       "      <th>Combined Project Essay</th>\n",
       "      <th>essay_processed</th>\n",
       "      <th>need_processed</th>\n",
       "    </tr>\n",
       "  </thead>\n",
       "  <tbody>\n",
       "    <tr>\n",
       "      <td>0</td>\n",
       "      <td>p039565</td>\n",
       "      <td>df72a3ba8089423fa8a94be88060f6ed</td>\n",
       "      <td>Mrs.</td>\n",
       "      <td>GA</td>\n",
       "      <td>2017-04-26 15:57:28</td>\n",
       "      <td>Grades 3-5</td>\n",
       "      <td>Counter({'Music &amp; The Arts': 1, 'Health &amp; Spor...</td>\n",
       "      <td>Counter({'Performing Arts': 1, 'Team Sports': 1})</td>\n",
       "      <td>Keep Calm and Dance On</td>\n",
       "      <td>Our elementary school is a culturally rich sch...</td>\n",
       "      <td>...</td>\n",
       "      <td>0.0</td>\n",
       "      <td>0.0</td>\n",
       "      <td>0.0</td>\n",
       "      <td>0.0</td>\n",
       "      <td>0.0</td>\n",
       "      <td>0.0</td>\n",
       "      <td>0.0</td>\n",
       "      <td>Our elementary school is a culturally rich sch...</td>\n",
       "      <td>elementary school rich school diverse populati...</td>\n",
       "      <td>student need matching shirt wear dance perform...</td>\n",
       "    </tr>\n",
       "    <tr>\n",
       "      <td>1</td>\n",
       "      <td>p063374</td>\n",
       "      <td>403c6783e9286e51ab318fba40f8d729</td>\n",
       "      <td>Mrs.</td>\n",
       "      <td>DE</td>\n",
       "      <td>2016-11-05 10:01:51</td>\n",
       "      <td>Grades PreK-2</td>\n",
       "      <td>Counter({'Applied Learning': 1, 'Literacy &amp; La...</td>\n",
       "      <td>Counter({'Character Education': 1, 'Literature...</td>\n",
       "      <td>Need to Reach Our Virtual  Mentors!!!</td>\n",
       "      <td>My kids tell me each day that they want to mak...</td>\n",
       "      <td>...</td>\n",
       "      <td>0.0</td>\n",
       "      <td>0.0</td>\n",
       "      <td>0.0</td>\n",
       "      <td>0.0</td>\n",
       "      <td>0.0</td>\n",
       "      <td>0.0</td>\n",
       "      <td>0.0</td>\n",
       "      <td>My kids tell me each day that they want to mak...</td>\n",
       "      <td>kid tell day want make happy teacher respectfu...</td>\n",
       "      <td>student need tablet order communicate virtual ...</td>\n",
       "    </tr>\n",
       "  </tbody>\n",
       "</table>\n",
       "<p>2 rows × 77 columns</p>\n",
       "</div>"
      ],
      "text/plain": [
       "        id                        teacher_id teacher_prefix school_state  \\\n",
       "0  p039565  df72a3ba8089423fa8a94be88060f6ed           Mrs.           GA   \n",
       "1  p063374  403c6783e9286e51ab318fba40f8d729           Mrs.           DE   \n",
       "\n",
       "  project_submitted_datetime project_grade_category  \\\n",
       "0        2017-04-26 15:57:28             Grades 3-5   \n",
       "1        2016-11-05 10:01:51          Grades PreK-2   \n",
       "\n",
       "                          project_subject_categories  \\\n",
       "0  Counter({'Music & The Arts': 1, 'Health & Spor...   \n",
       "1  Counter({'Applied Learning': 1, 'Literacy & La...   \n",
       "\n",
       "                       project_subject_subcategories  \\\n",
       "0  Counter({'Performing Arts': 1, 'Team Sports': 1})   \n",
       "1  Counter({'Character Education': 1, 'Literature...   \n",
       "\n",
       "                           project_title  \\\n",
       "0                 Keep Calm and Dance On   \n",
       "1  Need to Reach Our Virtual  Mentors!!!   \n",
       "\n",
       "                                     project_essay_1  ...  \\\n",
       "0  Our elementary school is a culturally rich sch...  ...   \n",
       "1  My kids tell me each day that they want to mak...  ...   \n",
       "\n",
       "  res_cat_Classroom Basics res_cat_Educational Kits & Games  \\\n",
       "0                      0.0                              0.0   \n",
       "1                      0.0                              0.0   \n",
       "\n",
       "  res_cat_Sports & Exercise Equipment res_cat_Musical Instruments  \\\n",
       "0                                 0.0                         0.0   \n",
       "1                                 0.0                         0.0   \n",
       "\n",
       "   res_cat_Art Supplies  res_cat_Lab Equipment res_cat_Visitors  \\\n",
       "0                   0.0                    0.0              0.0   \n",
       "1                   0.0                    0.0              0.0   \n",
       "\n",
       "                              Combined Project Essay  \\\n",
       "0  Our elementary school is a culturally rich sch...   \n",
       "1  My kids tell me each day that they want to mak...   \n",
       "\n",
       "                                     essay_processed  \\\n",
       "0  elementary school rich school diverse populati...   \n",
       "1  kid tell day want make happy teacher respectfu...   \n",
       "\n",
       "                                      need_processed  \n",
       "0  student need matching shirt wear dance perform...  \n",
       "1  student need tablet order communicate virtual ...  \n",
       "\n",
       "[2 rows x 77 columns]"
      ]
     },
     "execution_count": 3,
     "metadata": {},
     "output_type": "execute_result"
    }
   ],
   "source": [
    "train_data =pd.read_csv(r'C:\\Users\\liewm\\Documents\\BT4240 Machine Learning\\Project\\donorsnlp1.csv')\n",
    "train_data=train_data.drop(columns=['Unnamed: 0'])\n",
    "train_data.head(2)"
   ]
  },
  {
   "cell_type": "markdown",
   "metadata": {
    "colab_type": "text",
    "id": "oU4DzZN5lwYO"
   },
   "source": [
    "## Feature Selection"
   ]
  },
  {
   "cell_type": "code",
   "execution_count": 4,
   "metadata": {
    "colab": {
     "base_uri": "https://localhost:8080/",
     "height": 170
    },
    "colab_type": "code",
    "id": "WFLUVAVDLZE8",
    "outputId": "d883cb71-5523-4f69-850d-65329a09e92c"
   },
   "outputs": [
    {
     "data": {
      "text/plain": [
       "Index(['id', 'teacher_id', 'teacher_prefix', 'school_state',\n",
       "       'project_submitted_datetime', 'project_grade_category',\n",
       "       'project_subject_categories', 'project_subject_subcategories',\n",
       "       'project_title', 'project_essay_1', 'project_essay_2',\n",
       "       'project_essay_3', 'project_essay_4', 'project_resource_summary',\n",
       "       'teacher_number_of_previously_posted_projects', 'project_is_approved',\n",
       "       'description', 'total_cost', 'Project Resource Category',\n",
       "       'Project Need Statement', 'proj_cat_Music & The Arts',\n",
       "       'proj_cat_Health & Sports', 'proj_cat_Applied Learning',\n",
       "       'proj_cat_Literacy & Language', 'proj_cat_Math & Science',\n",
       "       'proj_cat_Special Needs', 'proj_cat_History & Civics',\n",
       "       'proj_cat_Warmth', 'proj_cat_Care & Hunger',\n",
       "       'proj_sub_cat_Performing Arts', 'proj_sub_cat_Team Sports',\n",
       "       'proj_sub_cat_Character Education', 'proj_sub_cat_Literature & Writing',\n",
       "       'proj_sub_cat_Mathematics', 'proj_sub_cat_Literacy',\n",
       "       'proj_sub_cat_Early Development', 'proj_sub_cat_Environmental Science',\n",
       "       'proj_sub_cat_Health & Wellness', 'proj_sub_cat_Music',\n",
       "       'proj_sub_cat_Applied Sciences', 'proj_sub_cat_Visual Arts',\n",
       "       'proj_sub_cat_ESL', 'proj_sub_cat_Extracurricular',\n",
       "       'proj_sub_cat_Gym & Fitness', 'proj_sub_cat_History & Geography',\n",
       "       'proj_sub_cat_College & Career Prep',\n",
       "       'proj_sub_cat_Health & Life Science', 'proj_sub_cat_Other',\n",
       "       'proj_sub_cat_Social Sciences', 'proj_sub_cat_Foreign Languages',\n",
       "       'proj_sub_cat_Parent Involvement', 'proj_sub_cat_Nutrition Education',\n",
       "       'proj_sub_cat_Civics & Government', 'proj_sub_cat_Community Service',\n",
       "       'proj_sub_cat_Financial Literacy', 'proj_sub_cat_Economics',\n",
       "       'res_cat_Supplies', 'res_cat_Technology', 'res_cat_Books',\n",
       "       'res_cat_Other', 'res_cat_Computers & Tablets', 'res_cat_Food',\n",
       "       'res_cat_Clothing & Hygiene', 'res_cat_Flexible Seating',\n",
       "       'res_cat_Reading Nooks', 'res_cat_Desks & Storage',\n",
       "       'res_cat_Instructional Technology', 'res_cat_Classroom Basics',\n",
       "       'res_cat_Educational Kits & Games',\n",
       "       'res_cat_Sports & Exercise Equipment', 'res_cat_Musical Instruments',\n",
       "       'res_cat_Art Supplies', 'res_cat_Lab Equipment', 'res_cat_Visitors',\n",
       "       'Combined Project Essay', 'essay_processed', 'need_processed'],\n",
       "      dtype='object')"
      ]
     },
     "execution_count": 4,
     "metadata": {},
     "output_type": "execute_result"
    }
   ],
   "source": [
    "train_data.columns"
   ]
  },
  {
   "cell_type": "code",
   "execution_count": 5,
   "metadata": {
    "colab": {
     "base_uri": "https://localhost:8080/",
     "height": 168
    },
    "colab_type": "code",
    "id": "-NNScbOiV_Ua",
    "outputId": "1fa244a8-087d-4af5-eb4f-7fc489d3534e"
   },
   "outputs": [
    {
     "name": "stdout",
     "output_type": "stream",
     "text": [
      "54\n",
      "[dtype('float64')]\n"
     ]
    },
    {
     "data": {
      "text/plain": [
       "Index(['teacher_number_of_previously_posted_projects', 'project_is_approved',\n",
       "       'total_cost', 'proj_cat_Music & The Arts', 'proj_cat_Health & Sports',\n",
       "       'proj_cat_Applied Learning', 'proj_cat_Literacy & Language',\n",
       "       'proj_cat_Math & Science', 'proj_cat_Special Needs',\n",
       "       'proj_cat_History & Civics', 'proj_cat_Warmth',\n",
       "       'proj_cat_Care & Hunger', 'proj_sub_cat_Performing Arts',\n",
       "       'proj_sub_cat_Team Sports', 'proj_sub_cat_Character Education',\n",
       "       'proj_sub_cat_Literature & Writing', 'proj_sub_cat_Mathematics',\n",
       "       'proj_sub_cat_Literacy', 'proj_sub_cat_Early Development',\n",
       "       'proj_sub_cat_Environmental Science', 'proj_sub_cat_Health & Wellness',\n",
       "       'proj_sub_cat_Music', 'proj_sub_cat_Applied Sciences',\n",
       "       'proj_sub_cat_Visual Arts', 'proj_sub_cat_ESL',\n",
       "       'proj_sub_cat_Extracurricular', 'proj_sub_cat_Gym & Fitness',\n",
       "       'proj_sub_cat_History & Geography',\n",
       "       'proj_sub_cat_College & Career Prep',\n",
       "       'proj_sub_cat_Health & Life Science', 'proj_sub_cat_Other',\n",
       "       'proj_sub_cat_Social Sciences', 'proj_sub_cat_Foreign Languages',\n",
       "       'proj_sub_cat_Parent Involvement', 'proj_sub_cat_Nutrition Education',\n",
       "       'proj_sub_cat_Civics & Government', 'proj_sub_cat_Community Service',\n",
       "       'proj_sub_cat_Financial Literacy', 'proj_sub_cat_Economics',\n",
       "       'res_cat_Supplies', 'res_cat_Computers & Tablets', 'res_cat_Food',\n",
       "       'res_cat_Clothing & Hygiene', 'res_cat_Flexible Seating',\n",
       "       'res_cat_Reading Nooks', 'res_cat_Desks & Storage',\n",
       "       'res_cat_Instructional Technology', 'res_cat_Classroom Basics',\n",
       "       'res_cat_Educational Kits & Games',\n",
       "       'res_cat_Sports & Exercise Equipment', 'res_cat_Musical Instruments',\n",
       "       'res_cat_Art Supplies', 'res_cat_Lab Equipment', 'res_cat_Visitors'],\n",
       "      dtype='object')"
      ]
     },
     "execution_count": 5,
     "metadata": {},
     "output_type": "execute_result"
    }
   ],
   "source": [
    "train_df = train_data.select_dtypes(exclude=['object','category'])\n",
    "print(len(train_df.columns))\n",
    "print(train_df.dtypes.unique())\n",
    "cat_columns = [col for col in train_df.columns if 'cat' in col]\n",
    "train_df.columns"
   ]
  },
  {
   "cell_type": "code",
   "execution_count": 6,
   "metadata": {},
   "outputs": [],
   "source": [
    "train_df=train_df.fillna(0)"
   ]
  },
  {
   "cell_type": "code",
   "execution_count": 7,
   "metadata": {},
   "outputs": [],
   "source": [
    "train_df['essay']=train_data['essay_processed']"
   ]
  },
  {
   "cell_type": "code",
   "execution_count": 8,
   "metadata": {},
   "outputs": [
    {
     "data": {
      "text/plain": [
       "teacher_number_of_previously_posted_projects    False\n",
       "project_is_approved                             False\n",
       "total_cost                                      False\n",
       "proj_cat_Music & The Arts                       False\n",
       "proj_cat_Health & Sports                        False\n",
       "proj_cat_Applied Learning                       False\n",
       "proj_cat_Literacy & Language                    False\n",
       "proj_cat_Math & Science                         False\n",
       "proj_cat_Special Needs                          False\n",
       "proj_cat_History & Civics                       False\n",
       "proj_cat_Warmth                                 False\n",
       "proj_cat_Care & Hunger                          False\n",
       "proj_sub_cat_Performing Arts                    False\n",
       "proj_sub_cat_Team Sports                        False\n",
       "proj_sub_cat_Character Education                False\n",
       "proj_sub_cat_Literature & Writing               False\n",
       "proj_sub_cat_Mathematics                        False\n",
       "proj_sub_cat_Literacy                           False\n",
       "proj_sub_cat_Early Development                  False\n",
       "proj_sub_cat_Environmental Science              False\n",
       "proj_sub_cat_Health & Wellness                  False\n",
       "proj_sub_cat_Music                              False\n",
       "proj_sub_cat_Applied Sciences                   False\n",
       "proj_sub_cat_Visual Arts                        False\n",
       "proj_sub_cat_ESL                                False\n",
       "proj_sub_cat_Extracurricular                    False\n",
       "proj_sub_cat_Gym & Fitness                      False\n",
       "proj_sub_cat_History & Geography                False\n",
       "proj_sub_cat_College & Career Prep              False\n",
       "proj_sub_cat_Health & Life Science              False\n",
       "proj_sub_cat_Other                              False\n",
       "proj_sub_cat_Social Sciences                    False\n",
       "proj_sub_cat_Foreign Languages                  False\n",
       "proj_sub_cat_Parent Involvement                 False\n",
       "proj_sub_cat_Nutrition Education                False\n",
       "proj_sub_cat_Civics & Government                False\n",
       "proj_sub_cat_Community Service                  False\n",
       "proj_sub_cat_Financial Literacy                 False\n",
       "proj_sub_cat_Economics                          False\n",
       "res_cat_Supplies                                False\n",
       "res_cat_Computers & Tablets                     False\n",
       "res_cat_Food                                    False\n",
       "res_cat_Clothing & Hygiene                      False\n",
       "res_cat_Flexible Seating                        False\n",
       "res_cat_Reading Nooks                           False\n",
       "res_cat_Desks & Storage                         False\n",
       "res_cat_Instructional Technology                False\n",
       "res_cat_Classroom Basics                        False\n",
       "res_cat_Educational Kits & Games                False\n",
       "res_cat_Sports & Exercise Equipment             False\n",
       "res_cat_Musical Instruments                     False\n",
       "res_cat_Art Supplies                            False\n",
       "res_cat_Lab Equipment                           False\n",
       "res_cat_Visitors                                False\n",
       "essay                                            True\n",
       "dtype: bool"
      ]
     },
     "execution_count": 8,
     "metadata": {},
     "output_type": "execute_result"
    }
   ],
   "source": [
    "train_df.isnull().any()"
   ]
  },
  {
   "cell_type": "code",
   "execution_count": 9,
   "metadata": {},
   "outputs": [
    {
     "data": {
      "text/html": [
       "<div>\n",
       "<style scoped>\n",
       "    .dataframe tbody tr th:only-of-type {\n",
       "        vertical-align: middle;\n",
       "    }\n",
       "\n",
       "    .dataframe tbody tr th {\n",
       "        vertical-align: top;\n",
       "    }\n",
       "\n",
       "    .dataframe thead th {\n",
       "        text-align: right;\n",
       "    }\n",
       "</style>\n",
       "<table border=\"1\" class=\"dataframe\">\n",
       "  <thead>\n",
       "    <tr style=\"text-align: right;\">\n",
       "      <th></th>\n",
       "      <th>teacher_number_of_previously_posted_projects</th>\n",
       "      <th>project_is_approved</th>\n",
       "      <th>total_cost</th>\n",
       "      <th>proj_cat_Music &amp; The Arts</th>\n",
       "      <th>proj_cat_Health &amp; Sports</th>\n",
       "      <th>proj_cat_Applied Learning</th>\n",
       "      <th>proj_cat_Literacy &amp; Language</th>\n",
       "      <th>proj_cat_Math &amp; Science</th>\n",
       "      <th>proj_cat_Special Needs</th>\n",
       "      <th>proj_cat_History &amp; Civics</th>\n",
       "      <th>...</th>\n",
       "      <th>res_cat_Desks &amp; Storage</th>\n",
       "      <th>res_cat_Instructional Technology</th>\n",
       "      <th>res_cat_Classroom Basics</th>\n",
       "      <th>res_cat_Educational Kits &amp; Games</th>\n",
       "      <th>res_cat_Sports &amp; Exercise Equipment</th>\n",
       "      <th>res_cat_Musical Instruments</th>\n",
       "      <th>res_cat_Art Supplies</th>\n",
       "      <th>res_cat_Lab Equipment</th>\n",
       "      <th>res_cat_Visitors</th>\n",
       "      <th>essay</th>\n",
       "    </tr>\n",
       "  </thead>\n",
       "  <tbody>\n",
       "    <tr>\n",
       "      <td>0</td>\n",
       "      <td>1.0</td>\n",
       "      <td>0.0</td>\n",
       "      <td>400.00</td>\n",
       "      <td>1</td>\n",
       "      <td>1</td>\n",
       "      <td>0</td>\n",
       "      <td>0</td>\n",
       "      <td>0</td>\n",
       "      <td>0</td>\n",
       "      <td>0</td>\n",
       "      <td>...</td>\n",
       "      <td>0</td>\n",
       "      <td>0</td>\n",
       "      <td>0</td>\n",
       "      <td>0</td>\n",
       "      <td>0</td>\n",
       "      <td>0</td>\n",
       "      <td>0</td>\n",
       "      <td>0</td>\n",
       "      <td>0</td>\n",
       "      <td>elementary school rich school diverse populati...</td>\n",
       "    </tr>\n",
       "    <tr>\n",
       "      <td>1</td>\n",
       "      <td>0.0</td>\n",
       "      <td>1.0</td>\n",
       "      <td>727.36</td>\n",
       "      <td>0</td>\n",
       "      <td>0</td>\n",
       "      <td>1</td>\n",
       "      <td>1</td>\n",
       "      <td>0</td>\n",
       "      <td>0</td>\n",
       "      <td>0</td>\n",
       "      <td>...</td>\n",
       "      <td>0</td>\n",
       "      <td>0</td>\n",
       "      <td>0</td>\n",
       "      <td>0</td>\n",
       "      <td>0</td>\n",
       "      <td>0</td>\n",
       "      <td>0</td>\n",
       "      <td>0</td>\n",
       "      <td>0</td>\n",
       "      <td>kid tell day want make happy teacher respectfu...</td>\n",
       "    </tr>\n",
       "    <tr>\n",
       "      <td>2</td>\n",
       "      <td>13.0</td>\n",
       "      <td>1.0</td>\n",
       "      <td>319.80</td>\n",
       "      <td>0</td>\n",
       "      <td>0</td>\n",
       "      <td>0</td>\n",
       "      <td>0</td>\n",
       "      <td>1</td>\n",
       "      <td>0</td>\n",
       "      <td>0</td>\n",
       "      <td>...</td>\n",
       "      <td>0</td>\n",
       "      <td>0</td>\n",
       "      <td>0</td>\n",
       "      <td>0</td>\n",
       "      <td>0</td>\n",
       "      <td>0</td>\n",
       "      <td>0</td>\n",
       "      <td>0</td>\n",
       "      <td>0</td>\n",
       "      <td>seventh grader dream big wait college dream co...</td>\n",
       "    </tr>\n",
       "  </tbody>\n",
       "</table>\n",
       "<p>3 rows × 55 columns</p>\n",
       "</div>"
      ],
      "text/plain": [
       "   teacher_number_of_previously_posted_projects  project_is_approved  \\\n",
       "0                                           1.0                  0.0   \n",
       "1                                           0.0                  1.0   \n",
       "2                                          13.0                  1.0   \n",
       "\n",
       "   total_cost  proj_cat_Music & The Arts  proj_cat_Health & Sports  \\\n",
       "0      400.00                          1                         1   \n",
       "1      727.36                          0                         0   \n",
       "2      319.80                          0                         0   \n",
       "\n",
       "   proj_cat_Applied Learning  proj_cat_Literacy & Language  \\\n",
       "0                          0                             0   \n",
       "1                          1                             1   \n",
       "2                          0                             0   \n",
       "\n",
       "   proj_cat_Math & Science  proj_cat_Special Needs  proj_cat_History & Civics  \\\n",
       "0                        0                       0                          0   \n",
       "1                        0                       0                          0   \n",
       "2                        1                       0                          0   \n",
       "\n",
       "   ...  res_cat_Desks & Storage  res_cat_Instructional Technology  \\\n",
       "0  ...                        0                                 0   \n",
       "1  ...                        0                                 0   \n",
       "2  ...                        0                                 0   \n",
       "\n",
       "   res_cat_Classroom Basics  res_cat_Educational Kits & Games  \\\n",
       "0                         0                                 0   \n",
       "1                         0                                 0   \n",
       "2                         0                                 0   \n",
       "\n",
       "   res_cat_Sports & Exercise Equipment  res_cat_Musical Instruments  \\\n",
       "0                                    0                            0   \n",
       "1                                    0                            0   \n",
       "2                                    0                            0   \n",
       "\n",
       "   res_cat_Art Supplies  res_cat_Lab Equipment  res_cat_Visitors  \\\n",
       "0                     0                      0                 0   \n",
       "1                     0                      0                 0   \n",
       "2                     0                      0                 0   \n",
       "\n",
       "                                               essay  \n",
       "0  elementary school rich school diverse populati...  \n",
       "1  kid tell day want make happy teacher respectfu...  \n",
       "2  seventh grader dream big wait college dream co...  \n",
       "\n",
       "[3 rows x 55 columns]"
      ]
     },
     "execution_count": 9,
     "metadata": {},
     "output_type": "execute_result"
    }
   ],
   "source": [
    "train_df[cat_columns] = train_df[cat_columns].astype('int8')\n",
    "train_df.head(3)"
   ]
  },
  {
   "cell_type": "code",
   "execution_count": 10,
   "metadata": {},
   "outputs": [],
   "source": [
    "train_df['teacher_number_of_previously_posted_projects']=train_df['teacher_number_of_previously_posted_projects'].astype('int8')\n",
    "train_df['project_is_approved']=train_df['project_is_approved'].astype('int8')\n"
   ]
  },
  {
   "cell_type": "code",
   "execution_count": 11,
   "metadata": {
    "colab": {
     "base_uri": "https://localhost:8080/",
     "height": 51
    },
    "colab_type": "code",
    "id": "TNxWsaYhfc-7",
    "outputId": "91834c01-426b-4286-ad4a-a2460a0c598d"
   },
   "outputs": [
    {
     "name": "stdout",
     "output_type": "stream",
     "text": [
      "(93791, 54)\n",
      "(93791, 1)\n",
      "<class 'pandas.core.frame.DataFrame'>\n",
      "Number of features: 54\n"
     ]
    }
   ],
   "source": [
    "X = train_df.loc[:, train_df.columns != 'project_is_approved']\n",
    "y = train_df.loc[:, train_df.columns == 'project_is_approved']\n",
    "print(X.shape)\n",
    "print(y.shape)\n",
    "\n",
    "print(type(y))\n",
    "print(\"Number of features: {}\".format(len(X.columns)))"
   ]
  },
  {
   "cell_type": "markdown",
   "metadata": {
    "colab_type": "text",
    "id": "mjXomXyJlwYn"
   },
   "source": [
    "### Normalize numerical features"
   ]
  },
  {
   "cell_type": "code",
   "execution_count": 12,
   "metadata": {
    "colab": {
     "base_uri": "https://localhost:8080/",
     "height": 221
    },
    "colab_type": "code",
    "id": "bkhemCQQk3IE",
    "outputId": "8eca6913-6744-48a9-875c-90c360e35685"
   },
   "outputs": [
    {
     "name": "stderr",
     "output_type": "stream",
     "text": [
      "C:\\Users\\liewm\\Anaconda3\\lib\\site-packages\\ipykernel_launcher.py:5: SettingWithCopyWarning: \n",
      "A value is trying to be set on a copy of a slice from a DataFrame.\n",
      "Try using .loc[row_indexer,col_indexer] = value instead\n",
      "\n",
      "See the caveats in the documentation: http://pandas.pydata.org/pandas-docs/stable/user_guide/indexing.html#returning-a-view-versus-a-copy\n",
      "  \"\"\"\n",
      "C:\\Users\\liewm\\Anaconda3\\lib\\site-packages\\ipykernel_launcher.py:5: SettingWithCopyWarning: \n",
      "A value is trying to be set on a copy of a slice from a DataFrame.\n",
      "Try using .loc[row_indexer,col_indexer] = value instead\n",
      "\n",
      "See the caveats in the documentation: http://pandas.pydata.org/pandas-docs/stable/user_guide/indexing.html#returning-a-view-versus-a-copy\n",
      "  \"\"\"\n"
     ]
    }
   ],
   "source": [
    "# standardize numeric features: teacher_number_of_previously_posted_projects, total_cost\n",
    "scaler = StandardScaler()\n",
    "stand_cols = ['teacher_number_of_previously_posted_projects', 'total_cost']\n",
    "for col_name in stand_cols:\n",
    "    X[col_name] = scaler.fit_transform(X[col_name].values.reshape(-1,1))"
   ]
  },
  {
   "cell_type": "code",
   "execution_count": 13,
   "metadata": {},
   "outputs": [
    {
     "data": {
      "text/plain": [
       "teacher_number_of_previously_posted_projects    False\n",
       "total_cost                                      False\n",
       "proj_cat_Music & The Arts                       False\n",
       "proj_cat_Health & Sports                        False\n",
       "proj_cat_Applied Learning                       False\n",
       "proj_cat_Literacy & Language                    False\n",
       "proj_cat_Math & Science                         False\n",
       "proj_cat_Special Needs                          False\n",
       "proj_cat_History & Civics                       False\n",
       "proj_cat_Warmth                                 False\n",
       "proj_cat_Care & Hunger                          False\n",
       "proj_sub_cat_Performing Arts                    False\n",
       "proj_sub_cat_Team Sports                        False\n",
       "proj_sub_cat_Character Education                False\n",
       "proj_sub_cat_Literature & Writing               False\n",
       "proj_sub_cat_Mathematics                        False\n",
       "proj_sub_cat_Literacy                           False\n",
       "proj_sub_cat_Early Development                  False\n",
       "proj_sub_cat_Environmental Science              False\n",
       "proj_sub_cat_Health & Wellness                  False\n",
       "proj_sub_cat_Music                              False\n",
       "proj_sub_cat_Applied Sciences                   False\n",
       "proj_sub_cat_Visual Arts                        False\n",
       "proj_sub_cat_ESL                                False\n",
       "proj_sub_cat_Extracurricular                    False\n",
       "proj_sub_cat_Gym & Fitness                      False\n",
       "proj_sub_cat_History & Geography                False\n",
       "proj_sub_cat_College & Career Prep              False\n",
       "proj_sub_cat_Health & Life Science              False\n",
       "proj_sub_cat_Other                              False\n",
       "proj_sub_cat_Social Sciences                    False\n",
       "proj_sub_cat_Foreign Languages                  False\n",
       "proj_sub_cat_Parent Involvement                 False\n",
       "proj_sub_cat_Nutrition Education                False\n",
       "proj_sub_cat_Civics & Government                False\n",
       "proj_sub_cat_Community Service                  False\n",
       "proj_sub_cat_Financial Literacy                 False\n",
       "proj_sub_cat_Economics                          False\n",
       "res_cat_Supplies                                False\n",
       "res_cat_Computers & Tablets                     False\n",
       "res_cat_Food                                    False\n",
       "res_cat_Clothing & Hygiene                      False\n",
       "res_cat_Flexible Seating                        False\n",
       "res_cat_Reading Nooks                           False\n",
       "res_cat_Desks & Storage                         False\n",
       "res_cat_Instructional Technology                False\n",
       "res_cat_Classroom Basics                        False\n",
       "res_cat_Educational Kits & Games                False\n",
       "res_cat_Sports & Exercise Equipment             False\n",
       "res_cat_Musical Instruments                     False\n",
       "res_cat_Art Supplies                            False\n",
       "res_cat_Lab Equipment                           False\n",
       "res_cat_Visitors                                False\n",
       "essay                                           False\n",
       "dtype: bool"
      ]
     },
     "execution_count": 13,
     "metadata": {},
     "output_type": "execute_result"
    }
   ],
   "source": [
    "import numpy as np\n",
    "X=X.replace(np.nan, '', regex=True)\n",
    "X.isnull().any()"
   ]
  },
  {
   "cell_type": "markdown",
   "metadata": {
    "colab_type": "text",
    "id": "iDAV_T5ZlwYx"
   },
   "source": [
    "## SMOTE Sampling"
   ]
  },
  {
   "cell_type": "code",
   "execution_count": 14,
   "metadata": {},
   "outputs": [],
   "source": [
    "from imblearn.pipeline import make_pipeline\n",
    "from imblearn.over_sampling import SMOTE"
   ]
  },
  {
   "cell_type": "code",
   "execution_count": 15,
   "metadata": {},
   "outputs": [],
   "source": [
    "def tfidf(col,ngrams = 1):\n",
    "\n",
    "    df_temp = X.copy(deep = True)\n",
    "    \n",
    "    tfidf_vectorizer = TfidfVectorizer(ngram_range=(1, ngrams))\n",
    "    tfidf_vectorizer.fit(df_temp[col])\n",
    "\n",
    "    list_corpus = df_temp[col].tolist()\n",
    "    list_labels = y['project_is_approved'].tolist()\n",
    "\n",
    "    X_tvec = tfidf_vectorizer.transform(list_corpus)\n",
    "    \n",
    "    return X_tvec, list_labels"
   ]
  },
  {
   "cell_type": "code",
   "execution_count": 16,
   "metadata": {},
   "outputs": [],
   "source": [
    "from sklearn.linear_model import LogisticRegressionCV\n",
    "from sklearn.metrics import roc_curve, auc\n",
    "from sklearn.metrics import confusion_matrix\n",
    "from sklearn.metrics import log_loss\n",
    "import matplotlib.pyplot as plt\n",
    "from sklearn.metrics import f1_score\n",
    "from sklearn.metrics import precision_score\n",
    "from sklearn.metrics import recall_score\n",
    "from sklearn.metrics import accuracy_score\n",
    "\n",
    "def training_logreg(X_train_log, X_test_log, y_train_log, y_test_log, preproc):\n",
    "    \n",
    "    folds = StratifiedKFold(n_splits = 5, shuffle = True, random_state = 40)\n",
    "    \n",
    "    clf = LogisticRegressionCV(cv = folds, solver = 'saga', multi_class = 'multinomial', n_jobs = -1)\n",
    "    \n",
    "    clf.fit(X_train_log, y_train_log)\n",
    "\n",
    "    res = pd.DataFrame(columns = ['Preprocessing', 'Model', 'Precision', 'Recall', 'F1-score', 'Testing Accuracy', 'Training Accuracy'])\n",
    "    \n",
    "    y_pred_training=clf.predict(X_train_log)\n",
    "    y_pred = clf.predict(X_test_log)\n",
    "    \n",
    "    f1 = f1_score(y_pred, y_test_log, average = 'weighted')\n",
    "    pres = precision_score(y_pred, y_test_log, average = 'weighted')\n",
    "    rec = recall_score(y_pred, y_test_log, average = 'weighted')\n",
    "    acc = accuracy_score(y_pred, y_test_log)#compare output of x_test prediction with actual output \n",
    "    training_acc=accuracy_score(y_pred_training, y_train_log)#compare output of x_train with y_train \n",
    "\n",
    "    res = res.append({'Preprocessing': preproc, 'Model': f'Logistic Regression', 'Precision': pres, \n",
    "                     'Recall': rec, 'F1-score': f1, 'Testing Accuracy': acc, 'Training Accuracy':training_acc}, ignore_index = True)\n",
    "    \n",
    "    \n",
    "    #Confusion matrix \n",
    "    conf_NB = confusion_matrix(y_test_log, y_pred)    \n",
    "\n",
    "    print(\"Confusion matrix:\\n\",conf_NB)\n",
    "    \n",
    "    # Plot ROC curve\n",
    "    preds=clf.predict_proba(X_test_log)[:,1]\n",
    "    fpr, tpr, threshold = roc_curve(y_test_log, preds)\n",
    "    roc_auc = auc(fpr, tpr)\n",
    "    \n",
    "    #Plot ROC\n",
    "\n",
    "    plt.title('Receiver Operating Characteristic')\n",
    "    plt.plot(fpr, tpr, 'b', label = 'AUC = %0.2f' % roc_auc)\n",
    "    plt.legend(loc = 'lower right')\n",
    "    plt.plot([0, 1], [0, 1],'r--')\n",
    "    plt.xlim([0, 1])\n",
    "    plt.ylim([0, 1])\n",
    "    plt.ylabel('True Positive Rate')\n",
    "    plt.xlabel('False Positive Rate')\n",
    "    plt.show()\n",
    "    \n",
    "    \n",
    "    return res"
   ]
  },
  {
   "cell_type": "code",
   "execution_count": 18,
   "metadata": {},
   "outputs": [
    {
     "data": {
      "text/html": [
       "<div>\n",
       "<style scoped>\n",
       "    .dataframe tbody tr th:only-of-type {\n",
       "        vertical-align: middle;\n",
       "    }\n",
       "\n",
       "    .dataframe tbody tr th {\n",
       "        vertical-align: top;\n",
       "    }\n",
       "\n",
       "    .dataframe thead th {\n",
       "        text-align: right;\n",
       "    }\n",
       "</style>\n",
       "<table border=\"1\" class=\"dataframe\">\n",
       "  <thead>\n",
       "    <tr style=\"text-align: right;\">\n",
       "      <th></th>\n",
       "      <th>teacher_number_of_previously_posted_projects</th>\n",
       "      <th>total_cost</th>\n",
       "      <th>proj_cat_Music &amp; The Arts</th>\n",
       "      <th>proj_cat_Health &amp; Sports</th>\n",
       "      <th>proj_cat_Applied Learning</th>\n",
       "      <th>proj_cat_Literacy &amp; Language</th>\n",
       "      <th>proj_cat_Math &amp; Science</th>\n",
       "      <th>proj_cat_Special Needs</th>\n",
       "      <th>proj_cat_History &amp; Civics</th>\n",
       "      <th>proj_cat_Warmth</th>\n",
       "      <th>...</th>\n",
       "      <th>res_cat_Reading Nooks</th>\n",
       "      <th>res_cat_Desks &amp; Storage</th>\n",
       "      <th>res_cat_Instructional Technology</th>\n",
       "      <th>res_cat_Classroom Basics</th>\n",
       "      <th>res_cat_Educational Kits &amp; Games</th>\n",
       "      <th>res_cat_Sports &amp; Exercise Equipment</th>\n",
       "      <th>res_cat_Musical Instruments</th>\n",
       "      <th>res_cat_Art Supplies</th>\n",
       "      <th>res_cat_Lab Equipment</th>\n",
       "      <th>res_cat_Visitors</th>\n",
       "    </tr>\n",
       "  </thead>\n",
       "  <tbody>\n",
       "    <tr>\n",
       "      <td>0</td>\n",
       "      <td>-0.34754</td>\n",
       "      <td>-0.215827</td>\n",
       "      <td>1</td>\n",
       "      <td>1</td>\n",
       "      <td>0</td>\n",
       "      <td>0</td>\n",
       "      <td>0</td>\n",
       "      <td>0</td>\n",
       "      <td>0</td>\n",
       "      <td>0</td>\n",
       "      <td>...</td>\n",
       "      <td>0</td>\n",
       "      <td>0</td>\n",
       "      <td>0</td>\n",
       "      <td>0</td>\n",
       "      <td>0</td>\n",
       "      <td>0</td>\n",
       "      <td>0</td>\n",
       "      <td>0</td>\n",
       "      <td>0</td>\n",
       "      <td>0</td>\n",
       "    </tr>\n",
       "  </tbody>\n",
       "</table>\n",
       "<p>1 rows × 53 columns</p>\n",
       "</div>"
      ],
      "text/plain": [
       "   teacher_number_of_previously_posted_projects  total_cost  \\\n",
       "0                                      -0.34754   -0.215827   \n",
       "\n",
       "   proj_cat_Music & The Arts  proj_cat_Health & Sports  \\\n",
       "0                          1                         1   \n",
       "\n",
       "   proj_cat_Applied Learning  proj_cat_Literacy & Language  \\\n",
       "0                          0                             0   \n",
       "\n",
       "   proj_cat_Math & Science  proj_cat_Special Needs  proj_cat_History & Civics  \\\n",
       "0                        0                       0                          0   \n",
       "\n",
       "   proj_cat_Warmth  ...  res_cat_Reading Nooks  res_cat_Desks & Storage  \\\n",
       "0                0  ...                      0                        0   \n",
       "\n",
       "   res_cat_Instructional Technology  res_cat_Classroom Basics  \\\n",
       "0                                 0                         0   \n",
       "\n",
       "   res_cat_Educational Kits & Games  res_cat_Sports & Exercise Equipment  \\\n",
       "0                                 0                                    0   \n",
       "\n",
       "   res_cat_Musical Instruments  res_cat_Art Supplies  res_cat_Lab Equipment  \\\n",
       "0                            0                     0                      0   \n",
       "\n",
       "   res_cat_Visitors  \n",
       "0                 0  \n",
       "\n",
       "[1 rows x 53 columns]"
      ]
     },
     "execution_count": 18,
     "metadata": {},
     "output_type": "execute_result"
    }
   ],
   "source": [
    "df = X[X.columns[:-1]]\n",
    "df.head(1)"
   ]
  },
  {
   "cell_type": "markdown",
   "metadata": {},
   "source": [
    "## Logistic Regression (All features) \n",
    "- Essays\n",
    "- Project Resource Category \n",
    "- Project Category \n",
    "- Project Subject Category \n",
    "- Cost\n",
    "- Number of previously submitted projects "
   ]
  },
  {
   "cell_type": "code",
   "execution_count": 19,
   "metadata": {},
   "outputs": [
    {
     "name": "stderr",
     "output_type": "stream",
     "text": [
      "C:\\Users\\liewm\\Anaconda3\\lib\\site-packages\\sklearn\\linear_model\\sag.py:337: ConvergenceWarning: The max_iter was reached which means the coef_ did not converge\n",
      "  \"the coef_ did not converge\", ConvergenceWarning)\n"
     ]
    },
    {
     "name": "stdout",
     "output_type": "stream",
     "text": [
      "Confusion matrix:\n",
      " [[  757   988]\n",
      " [ 3212 13802]]\n"
     ]
    },
    {
     "data": {
      "image/png": "[encoded data removed]",
      "text/plain": [
       "<Figure size 432x288 with 1 Axes>"
      ]
     },
     "metadata": {
      "needs_background": "light"
     },
     "output_type": "display_data"
    }
   ],
   "source": [
    "# DataFrame for result evaluation\n",
    "from scipy.sparse import hstack, csr_matrix\n",
    "smote_result = pd.DataFrame(columns = ['Preprocessing', 'Model', 'Precision', 'Recall', 'F1-score', 'Testing Accuracy', 'Training Accuracy'])\n",
    "smote_over_sample = SMOTE(sampling_strategy='minority')\n",
    "\n",
    "# Testing TF-IDF with 1-gram\n",
    "\n",
    "Xtvec, ytvec = tfidf('essay', ngrams = 1)\n",
    "traindex=df.index\n",
    "X_mat = hstack([csr_matrix(df.loc[traindex,:].values),Xtvec[0:traindex.shape[0]]])\n",
    "\n",
    "X_train, X_test, y_train, y_test = train_test_split(X_mat, ytvec, test_size=0.2, random_state=40)\n",
    "\n",
    "X_smote_train, y_smote_train = smote_over_sample.fit_resample(X_train, y_train)\n",
    "smote_result = smote_result.append(training_logreg(X_smote_train, X_test, y_smote_train, y_test, 'TF-IDF 1-grams'), ignore_index = True)\n",
    "\n"
   ]
  },
  {
   "cell_type": "code",
   "execution_count": 20,
   "metadata": {},
   "outputs": [
    {
     "data": {
      "text/html": [
       "<div>\n",
       "<style scoped>\n",
       "    .dataframe tbody tr th:only-of-type {\n",
       "        vertical-align: middle;\n",
       "    }\n",
       "\n",
       "    .dataframe tbody tr th {\n",
       "        vertical-align: top;\n",
       "    }\n",
       "\n",
       "    .dataframe thead th {\n",
       "        text-align: right;\n",
       "    }\n",
       "</style>\n",
       "<table border=\"1\" class=\"dataframe\">\n",
       "  <thead>\n",
       "    <tr style=\"text-align: right;\">\n",
       "      <th></th>\n",
       "      <th>Preprocessing</th>\n",
       "      <th>Model</th>\n",
       "      <th>Precision</th>\n",
       "      <th>Recall</th>\n",
       "      <th>F1-score</th>\n",
       "      <th>Testing Accuracy</th>\n",
       "      <th>Training Accuracy</th>\n",
       "    </tr>\n",
       "  </thead>\n",
       "  <tbody>\n",
       "    <tr>\n",
       "      <td>0</td>\n",
       "      <td>TF-IDF 1-grams</td>\n",
       "      <td>Logistic Regression</td>\n",
       "      <td>0.731364</td>\n",
       "      <td>0.776107</td>\n",
       "      <td>0.740364</td>\n",
       "      <td>0.776107</td>\n",
       "      <td>0.894263</td>\n",
       "    </tr>\n",
       "  </tbody>\n",
       "</table>\n",
       "</div>"
      ],
      "text/plain": [
       "    Preprocessing                Model  Precision    Recall  F1-score  \\\n",
       "0  TF-IDF 1-grams  Logistic Regression   0.731364  0.776107  0.740364   \n",
       "\n",
       "   Testing Accuracy  Training Accuracy  \n",
       "0          0.776107           0.894263  "
      ]
     },
     "execution_count": 20,
     "metadata": {},
     "output_type": "execute_result"
    }
   ],
   "source": [
    "smote_result"
   ]
  },
  {
   "cell_type": "markdown",
   "metadata": {},
   "source": [
    "## Logistic Regression V2\n",
    "- Essays\n",
    "- Cost\n",
    "- Number of previously submitted projects "
   ]
  },
  {
   "cell_type": "code",
   "execution_count": 57,
   "metadata": {},
   "outputs": [
    {
     "data": {
      "text/html": [
       "<div>\n",
       "<style scoped>\n",
       "    .dataframe tbody tr th:only-of-type {\n",
       "        vertical-align: middle;\n",
       "    }\n",
       "\n",
       "    .dataframe tbody tr th {\n",
       "        vertical-align: top;\n",
       "    }\n",
       "\n",
       "    .dataframe thead th {\n",
       "        text-align: right;\n",
       "    }\n",
       "</style>\n",
       "<table border=\"1\" class=\"dataframe\">\n",
       "  <thead>\n",
       "    <tr style=\"text-align: right;\">\n",
       "      <th></th>\n",
       "      <th>teacher_number_of_previously_posted_projects</th>\n",
       "      <th>total_cost</th>\n",
       "    </tr>\n",
       "  </thead>\n",
       "  <tbody>\n",
       "    <tr>\n",
       "      <td>0</td>\n",
       "      <td>-0.347540</td>\n",
       "      <td>-0.215827</td>\n",
       "    </tr>\n",
       "    <tr>\n",
       "      <td>1</td>\n",
       "      <td>-0.394577</td>\n",
       "      <td>0.408963</td>\n",
       "    </tr>\n",
       "    <tr>\n",
       "      <td>2</td>\n",
       "      <td>0.216899</td>\n",
       "      <td>-0.368895</td>\n",
       "    </tr>\n",
       "    <tr>\n",
       "      <td>3</td>\n",
       "      <td>-0.347540</td>\n",
       "      <td>-0.784582</td>\n",
       "    </tr>\n",
       "    <tr>\n",
       "      <td>4</td>\n",
       "      <td>-0.253467</td>\n",
       "      <td>-0.642221</td>\n",
       "    </tr>\n",
       "    <tr>\n",
       "      <td>...</td>\n",
       "      <td>...</td>\n",
       "      <td>...</td>\n",
       "    </tr>\n",
       "    <tr>\n",
       "      <td>93786</td>\n",
       "      <td>-0.394577</td>\n",
       "      <td>0.042727</td>\n",
       "    </tr>\n",
       "    <tr>\n",
       "      <td>93787</td>\n",
       "      <td>-0.347540</td>\n",
       "      <td>1.365825</td>\n",
       "    </tr>\n",
       "    <tr>\n",
       "      <td>93788</td>\n",
       "      <td>2.662801</td>\n",
       "      <td>-0.352729</td>\n",
       "    </tr>\n",
       "    <tr>\n",
       "      <td>93789</td>\n",
       "      <td>0.969484</td>\n",
       "      <td>-0.525169</td>\n",
       "    </tr>\n",
       "    <tr>\n",
       "      <td>93790</td>\n",
       "      <td>-0.347540</td>\n",
       "      <td>-0.334159</td>\n",
       "    </tr>\n",
       "  </tbody>\n",
       "</table>\n",
       "<p>93791 rows × 2 columns</p>\n",
       "</div>"
      ],
      "text/plain": [
       "       teacher_number_of_previously_posted_projects  total_cost\n",
       "0                                         -0.347540   -0.215827\n",
       "1                                         -0.394577    0.408963\n",
       "2                                          0.216899   -0.368895\n",
       "3                                         -0.347540   -0.784582\n",
       "4                                         -0.253467   -0.642221\n",
       "...                                             ...         ...\n",
       "93786                                     -0.394577    0.042727\n",
       "93787                                     -0.347540    1.365825\n",
       "93788                                      2.662801   -0.352729\n",
       "93789                                      0.969484   -0.525169\n",
       "93790                                     -0.347540   -0.334159\n",
       "\n",
       "[93791 rows x 2 columns]"
      ]
     },
     "execution_count": 57,
     "metadata": {},
     "output_type": "execute_result"
    }
   ],
   "source": [
    "#Modify dataset \n",
    "df2 = X[X.columns[:2]]\n",
    "df2"
   ]
  },
  {
   "cell_type": "code",
   "execution_count": 58,
   "metadata": {},
   "outputs": [
    {
     "name": "stderr",
     "output_type": "stream",
     "text": [
      "C:\\Users\\liewm\\Anaconda3\\lib\\site-packages\\sklearn\\linear_model\\sag.py:337: ConvergenceWarning: The max_iter was reached which means the coef_ did not converge\n",
      "  \"the coef_ did not converge\", ConvergenceWarning)\n"
     ]
    },
    {
     "name": "stdout",
     "output_type": "stream",
     "text": [
      "Confusion matrix:\n",
      " [[  747   998]\n",
      " [ 3246 13768]]\n"
     ]
    },
    {
     "data": {
      "image/png": "[encoded data removed]",
      "text/plain": [
       "<Figure size 432x288 with 1 Axes>"
      ]
     },
     "metadata": {
      "needs_background": "light"
     },
     "output_type": "display_data"
    }
   ],
   "source": [
    "# DataFrame for result evaluation\n",
    "from scipy.sparse import hstack, csr_matrix\n",
    "smote_result = pd.DataFrame(columns = ['Preprocessing', 'Model', 'Precision', 'Recall', 'F1-score', 'Accuracy'])\n",
    "\n",
    "smote_over_sample = SMOTE(sampling_strategy='minority')\n",
    "\n",
    "# Testing TF-IDF with 1-gram\n",
    "\n",
    "Xtvec, ytvec = tfidf('essay', ngrams = 1)\n",
    "traindex=df2.index\n",
    "X_mat = hstack([csr_matrix(df2.loc[traindex,:].values),Xtvec[0:traindex.shape[0]]])\n",
    "\n",
    "X_train, X_test, y_train, y_test = train_test_split(X_mat, ytvec, test_size=0.2, random_state=40)\n",
    "\n",
    "X_smote_train, y_smote_train = smote_over_sample.fit_resample(X_train, y_train)\n",
    "smote_result = smote_result.append(training_logreg(X_smote_train, X_test, y_smote_train, y_test, 'TF-IDF 1-grams'), ignore_index = True)\n",
    "\n"
   ]
  },
  {
   "cell_type": "code",
   "execution_count": 59,
   "metadata": {},
   "outputs": [
    {
     "data": {
      "text/html": [
       "<div>\n",
       "<style scoped>\n",
       "    .dataframe tbody tr th:only-of-type {\n",
       "        vertical-align: middle;\n",
       "    }\n",
       "\n",
       "    .dataframe tbody tr th {\n",
       "        vertical-align: top;\n",
       "    }\n",
       "\n",
       "    .dataframe thead th {\n",
       "        text-align: right;\n",
       "    }\n",
       "</style>\n",
       "<table border=\"1\" class=\"dataframe\">\n",
       "  <thead>\n",
       "    <tr style=\"text-align: right;\">\n",
       "      <th></th>\n",
       "      <th>Preprocessing</th>\n",
       "      <th>Model</th>\n",
       "      <th>Precision</th>\n",
       "      <th>Recall</th>\n",
       "      <th>F1-score</th>\n",
       "      <th>Accuracy</th>\n",
       "    </tr>\n",
       "  </thead>\n",
       "  <tbody>\n",
       "    <tr>\n",
       "      <td>0</td>\n",
       "      <td>TF-IDF 1-grams</td>\n",
       "      <td>Logistic Regression</td>\n",
       "      <td>0.728088</td>\n",
       "      <td>0.773762</td>\n",
       "      <td>0.737446</td>\n",
       "      <td>0.773762</td>\n",
       "    </tr>\n",
       "  </tbody>\n",
       "</table>\n",
       "</div>"
      ],
      "text/plain": [
       "    Preprocessing                Model  Precision    Recall  F1-score  \\\n",
       "0  TF-IDF 1-grams  Logistic Regression   0.728088  0.773762  0.737446   \n",
       "\n",
       "   Accuracy  \n",
       "0  0.773762  "
      ]
     },
     "execution_count": 59,
     "metadata": {},
     "output_type": "execute_result"
    }
   ],
   "source": [
    "smote_result"
   ]
  },
  {
   "cell_type": "markdown",
   "metadata": {},
   "source": [
    "## Logistic Regression v3"
   ]
  },
  {
   "cell_type": "code",
   "execution_count": 60,
   "metadata": {},
   "outputs": [
    {
     "data": {
      "text/html": [
       "<div>\n",
       "<style scoped>\n",
       "    .dataframe tbody tr th:only-of-type {\n",
       "        vertical-align: middle;\n",
       "    }\n",
       "\n",
       "    .dataframe tbody tr th {\n",
       "        vertical-align: top;\n",
       "    }\n",
       "\n",
       "    .dataframe thead th {\n",
       "        text-align: right;\n",
       "    }\n",
       "</style>\n",
       "<table border=\"1\" class=\"dataframe\">\n",
       "  <thead>\n",
       "    <tr style=\"text-align: right;\">\n",
       "      <th></th>\n",
       "      <th>total_cost</th>\n",
       "    </tr>\n",
       "  </thead>\n",
       "  <tbody>\n",
       "    <tr>\n",
       "      <td>0</td>\n",
       "      <td>-0.215827</td>\n",
       "    </tr>\n",
       "    <tr>\n",
       "      <td>1</td>\n",
       "      <td>0.408963</td>\n",
       "    </tr>\n",
       "    <tr>\n",
       "      <td>2</td>\n",
       "      <td>-0.368895</td>\n",
       "    </tr>\n",
       "    <tr>\n",
       "      <td>3</td>\n",
       "      <td>-0.784582</td>\n",
       "    </tr>\n",
       "    <tr>\n",
       "      <td>4</td>\n",
       "      <td>-0.642221</td>\n",
       "    </tr>\n",
       "    <tr>\n",
       "      <td>...</td>\n",
       "      <td>...</td>\n",
       "    </tr>\n",
       "    <tr>\n",
       "      <td>93786</td>\n",
       "      <td>0.042727</td>\n",
       "    </tr>\n",
       "    <tr>\n",
       "      <td>93787</td>\n",
       "      <td>1.365825</td>\n",
       "    </tr>\n",
       "    <tr>\n",
       "      <td>93788</td>\n",
       "      <td>-0.352729</td>\n",
       "    </tr>\n",
       "    <tr>\n",
       "      <td>93789</td>\n",
       "      <td>-0.525169</td>\n",
       "    </tr>\n",
       "    <tr>\n",
       "      <td>93790</td>\n",
       "      <td>-0.334159</td>\n",
       "    </tr>\n",
       "  </tbody>\n",
       "</table>\n",
       "<p>93791 rows × 1 columns</p>\n",
       "</div>"
      ],
      "text/plain": [
       "       total_cost\n",
       "0       -0.215827\n",
       "1        0.408963\n",
       "2       -0.368895\n",
       "3       -0.784582\n",
       "4       -0.642221\n",
       "...           ...\n",
       "93786    0.042727\n",
       "93787    1.365825\n",
       "93788   -0.352729\n",
       "93789   -0.525169\n",
       "93790   -0.334159\n",
       "\n",
       "[93791 rows x 1 columns]"
      ]
     },
     "execution_count": 60,
     "metadata": {},
     "output_type": "execute_result"
    }
   ],
   "source": [
    "#Modify dataset \n",
    "df3 = X[X.columns[1:2]]\n",
    "df3"
   ]
  },
  {
   "cell_type": "code",
   "execution_count": 61,
   "metadata": {},
   "outputs": [
    {
     "name": "stderr",
     "output_type": "stream",
     "text": [
      "C:\\Users\\liewm\\Anaconda3\\lib\\site-packages\\sklearn\\linear_model\\sag.py:337: ConvergenceWarning: The max_iter was reached which means the coef_ did not converge\n",
      "  \"the coef_ did not converge\", ConvergenceWarning)\n"
     ]
    },
    {
     "name": "stdout",
     "output_type": "stream",
     "text": [
      "Confusion matrix:\n",
      " [[  723  1022]\n",
      " [ 3216 13798]]\n"
     ]
    },
    {
     "data": {
      "image/png": "[encoded data removed]",
      "text/plain": [
       "<Figure size 432x288 with 1 Axes>"
      ]
     },
     "metadata": {
      "needs_background": "light"
     },
     "output_type": "display_data"
    }
   ],
   "source": [
    "# DataFrame for result evaluation\n",
    "from scipy.sparse import hstack, csr_matrix\n",
    "smote_result = pd.DataFrame(columns = ['Preprocessing', 'Model', 'Precision', 'Recall', 'F1-score', 'Accuracy'])\n",
    "\n",
    "smote_over_sample = SMOTE(sampling_strategy='minority')\n",
    "\n",
    "# Testing TF-IDF with 1-gram\n",
    "\n",
    "Xtvec, ytvec = tfidf('essay', ngrams = 1)\n",
    "traindex=df3.index\n",
    "X_mat = hstack([csr_matrix(df3.loc[traindex,:].values),Xtvec[0:traindex.shape[0]]])\n",
    "\n",
    "X_train, X_test, y_train, y_test = train_test_split(X_mat, ytvec, test_size=0.2, random_state=40)\n",
    "\n",
    "X_smote_train, y_smote_train = smote_over_sample.fit_resample(X_train, y_train)\n",
    "smote_result = smote_result.append(training_logreg(X_smote_train, X_test, y_smote_train, y_test, 'TF-IDF 1-grams'), ignore_index = True)\n",
    "\n"
   ]
  },
  {
   "cell_type": "code",
   "execution_count": 62,
   "metadata": {},
   "outputs": [
    {
     "data": {
      "text/html": [
       "<div>\n",
       "<style scoped>\n",
       "    .dataframe tbody tr th:only-of-type {\n",
       "        vertical-align: middle;\n",
       "    }\n",
       "\n",
       "    .dataframe tbody tr th {\n",
       "        vertical-align: top;\n",
       "    }\n",
       "\n",
       "    .dataframe thead th {\n",
       "        text-align: right;\n",
       "    }\n",
       "</style>\n",
       "<table border=\"1\" class=\"dataframe\">\n",
       "  <thead>\n",
       "    <tr style=\"text-align: right;\">\n",
       "      <th></th>\n",
       "      <th>Preprocessing</th>\n",
       "      <th>Model</th>\n",
       "      <th>Precision</th>\n",
       "      <th>Recall</th>\n",
       "      <th>F1-score</th>\n",
       "      <th>Accuracy</th>\n",
       "    </tr>\n",
       "  </thead>\n",
       "  <tbody>\n",
       "    <tr>\n",
       "      <td>0</td>\n",
       "      <td>TF-IDF 1-grams</td>\n",
       "      <td>Logistic Regression</td>\n",
       "      <td>0.72769</td>\n",
       "      <td>0.774082</td>\n",
       "      <td>0.738265</td>\n",
       "      <td>0.774082</td>\n",
       "    </tr>\n",
       "  </tbody>\n",
       "</table>\n",
       "</div>"
      ],
      "text/plain": [
       "    Preprocessing                Model  Precision    Recall  F1-score  \\\n",
       "0  TF-IDF 1-grams  Logistic Regression    0.72769  0.774082  0.738265   \n",
       "\n",
       "   Accuracy  \n",
       "0  0.774082  "
      ]
     },
     "execution_count": 62,
     "metadata": {},
     "output_type": "execute_result"
    }
   ],
   "source": [
    "smote_result"
   ]
  },
  {
   "cell_type": "code",
   "execution_count": null,
   "metadata": {},
   "outputs": [],
   "source": []
  }
 ],
 "metadata": {
  "colab": {
   "collapsed_sections": [],
   "name": "logistic_regression(updated).ipynb",
   "provenance": []
  },
  "kernelspec": {
   "display_name": "Python 3",
   "language": "python",
   "name": "python3"
  },
  "language_info": {
   "codemirror_mode": {
    "name": "ipython",
    "version": 3
   },
   "file_extension": ".py",
   "mimetype": "text/x-python",
   "name": "python",
   "nbconvert_exporter": "python",
   "pygments_lexer": "ipython3",
   "version": "3.7.4"
  }
 },
 "nbformat": 4,
 "nbformat_minor": 1
}
